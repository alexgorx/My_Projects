{
 "cells": [
  {
   "cell_type": "markdown",
   "id": "aba61dd4",
   "metadata": {},
   "source": [
    "Проведите RFM анализ. В каждом подсегменте поделите пользователей на 4 класса. Отсчитывайте количество дней, прошедших с момента последней покупки, с максимальной даты покупки в датасете.  \n",
    "\n",
    "- Какое максимальное кол-во покупок было совершено одним пользователем?\n",
    "- Какая верхняя граница у суммы покупок у пользователей с классом 4 в подсегменте М? (Другими словами: пользователи, у которых сумма покупок от 0 до Х попадают в 4 класс в подсегменте М)\n",
    "- Какая нижняя граница у количества покупок у пользователей с классом 1 в подсегменте F?\n",
    "- Какая верхняя граница у количества покупок у пользователей с классом 2 в подсегменте R?\n",
    "- Сколько пользователей попало в сегмент 111?\n",
    "- Сколько пользователей попало в сегмент 311?\n",
    "- В каком RFM-сегменте самое большое кол-во пользователей?\n",
    "- В каком RFM-сегменте самое маленькое кол-во пользователей?\n",
    "- Какое количество пользователей попало в самый малочисленный сегмент?"
   ]
  },
  {
   "cell_type": "code",
   "execution_count": 1,
   "id": "690f282e",
   "metadata": {},
   "outputs": [],
   "source": [
    "import pandas as pd"
   ]
  },
  {
   "cell_type": "code",
   "execution_count": 2,
   "id": "9195ce85",
   "metadata": {},
   "outputs": [],
   "source": [
    "df = pd.read_csv('/home/vitsli/DataAnalitycs/product_analitycs/RFM_ht_data.csv',\n",
    "                 dtype={'CustomerCode': str}) "
   ]
  },
  {
   "cell_type": "code",
   "execution_count": 4,
   "id": "9b37b68e",
   "metadata": {},
   "outputs": [
    {
     "data": {
      "text/html": [
       "<div>\n",
       "<style scoped>\n",
       "    .dataframe tbody tr th:only-of-type {\n",
       "        vertical-align: middle;\n",
       "    }\n",
       "\n",
       "    .dataframe tbody tr th {\n",
       "        vertical-align: top;\n",
       "    }\n",
       "\n",
       "    .dataframe thead th {\n",
       "        text-align: right;\n",
       "    }\n",
       "</style>\n",
       "<table border=\"1\" class=\"dataframe\">\n",
       "  <thead>\n",
       "    <tr style=\"text-align: right;\">\n",
       "      <th></th>\n",
       "      <th>InvoiceNo</th>\n",
       "      <th>CustomerCode</th>\n",
       "      <th>InvoiceDate</th>\n",
       "      <th>Amount</th>\n",
       "    </tr>\n",
       "  </thead>\n",
       "  <tbody>\n",
       "    <tr>\n",
       "      <th>0</th>\n",
       "      <td>C0011810010001</td>\n",
       "      <td>19067290</td>\n",
       "      <td>2020-09-01</td>\n",
       "      <td>1716.00</td>\n",
       "    </tr>\n",
       "    <tr>\n",
       "      <th>1</th>\n",
       "      <td>C0011810010017</td>\n",
       "      <td>13233933</td>\n",
       "      <td>2020-09-01</td>\n",
       "      <td>1489.74</td>\n",
       "    </tr>\n",
       "    <tr>\n",
       "      <th>2</th>\n",
       "      <td>C0011810010020</td>\n",
       "      <td>99057968</td>\n",
       "      <td>2020-09-01</td>\n",
       "      <td>151.47</td>\n",
       "    </tr>\n",
       "    <tr>\n",
       "      <th>3</th>\n",
       "      <td>C0011810010021</td>\n",
       "      <td>80007276</td>\n",
       "      <td>2020-09-01</td>\n",
       "      <td>146.72</td>\n",
       "    </tr>\n",
       "    <tr>\n",
       "      <th>4</th>\n",
       "      <td>C0011810010024</td>\n",
       "      <td>13164076</td>\n",
       "      <td>2020-09-01</td>\n",
       "      <td>104.00</td>\n",
       "    </tr>\n",
       "    <tr>\n",
       "      <th>5</th>\n",
       "      <td>C0011810010026</td>\n",
       "      <td>13163946</td>\n",
       "      <td>2020-09-01</td>\n",
       "      <td>160.00</td>\n",
       "    </tr>\n",
       "    <tr>\n",
       "      <th>6</th>\n",
       "      <td>C0011810010033</td>\n",
       "      <td>13233767</td>\n",
       "      <td>2020-09-01</td>\n",
       "      <td>372.37</td>\n",
       "    </tr>\n",
       "    <tr>\n",
       "      <th>7</th>\n",
       "      <td>C0011810010040</td>\n",
       "      <td>13233754</td>\n",
       "      <td>2020-09-01</td>\n",
       "      <td>222.62</td>\n",
       "    </tr>\n",
       "    <tr>\n",
       "      <th>8</th>\n",
       "      <td>C0011810010053</td>\n",
       "      <td>80007255</td>\n",
       "      <td>2020-09-01</td>\n",
       "      <td>1522.00</td>\n",
       "    </tr>\n",
       "    <tr>\n",
       "      <th>9</th>\n",
       "      <td>C0011810010065</td>\n",
       "      <td>13233771</td>\n",
       "      <td>2020-09-01</td>\n",
       "      <td>487.46</td>\n",
       "    </tr>\n",
       "  </tbody>\n",
       "</table>\n",
       "</div>"
      ],
      "text/plain": [
       "        InvoiceNo CustomerCode InvoiceDate   Amount\n",
       "0  C0011810010001     19067290  2020-09-01  1716.00\n",
       "1  C0011810010017     13233933  2020-09-01  1489.74\n",
       "2  C0011810010020     99057968  2020-09-01   151.47\n",
       "3  C0011810010021     80007276  2020-09-01   146.72\n",
       "4  C0011810010024     13164076  2020-09-01   104.00\n",
       "5  C0011810010026     13163946  2020-09-01   160.00\n",
       "6  C0011810010033     13233767  2020-09-01   372.37\n",
       "7  C0011810010040     13233754  2020-09-01   222.62\n",
       "8  C0011810010053     80007255  2020-09-01  1522.00\n",
       "9  C0011810010065     13233771  2020-09-01   487.46"
      ]
     },
     "execution_count": 4,
     "metadata": {},
     "output_type": "execute_result"
    }
   ],
   "source": [
    "df.head(10)"
   ]
  },
  {
   "cell_type": "code",
   "execution_count": 8,
   "id": "c0951232",
   "metadata": {},
   "outputs": [
    {
     "data": {
      "text/html": [
       "<div>\n",
       "<style scoped>\n",
       "    .dataframe tbody tr th:only-of-type {\n",
       "        vertical-align: middle;\n",
       "    }\n",
       "\n",
       "    .dataframe tbody tr th {\n",
       "        vertical-align: top;\n",
       "    }\n",
       "\n",
       "    .dataframe thead th {\n",
       "        text-align: right;\n",
       "    }\n",
       "</style>\n",
       "<table border=\"1\" class=\"dataframe\">\n",
       "  <thead>\n",
       "    <tr style=\"text-align: right;\">\n",
       "      <th></th>\n",
       "      <th>CustomerCode</th>\n",
       "      <th>OrderQuantity</th>\n",
       "    </tr>\n",
       "  </thead>\n",
       "  <tbody>\n",
       "    <tr>\n",
       "      <th>0</th>\n",
       "      <td>02213019</td>\n",
       "      <td>1</td>\n",
       "    </tr>\n",
       "    <tr>\n",
       "      <th>67249</th>\n",
       "      <td>18053075</td>\n",
       "      <td>1</td>\n",
       "    </tr>\n",
       "    <tr>\n",
       "      <th>67247</th>\n",
       "      <td>18053072</td>\n",
       "      <td>1</td>\n",
       "    </tr>\n",
       "    <tr>\n",
       "      <th>67245</th>\n",
       "      <td>18053055</td>\n",
       "      <td>1</td>\n",
       "    </tr>\n",
       "    <tr>\n",
       "      <th>67243</th>\n",
       "      <td>18053019</td>\n",
       "      <td>1</td>\n",
       "    </tr>\n",
       "    <tr>\n",
       "      <th>...</th>\n",
       "      <td>...</td>\n",
       "      <td>...</td>\n",
       "    </tr>\n",
       "    <tr>\n",
       "      <th>119951</th>\n",
       "      <td>99003061</td>\n",
       "      <td>90</td>\n",
       "    </tr>\n",
       "    <tr>\n",
       "      <th>97077</th>\n",
       "      <td>19080880</td>\n",
       "      <td>99</td>\n",
       "    </tr>\n",
       "    <tr>\n",
       "      <th>10347</th>\n",
       "      <td>13032521</td>\n",
       "      <td>106</td>\n",
       "    </tr>\n",
       "    <tr>\n",
       "      <th>44594</th>\n",
       "      <td>13215452</td>\n",
       "      <td>113</td>\n",
       "    </tr>\n",
       "    <tr>\n",
       "      <th>89388</th>\n",
       "      <td>19057820</td>\n",
       "      <td>204</td>\n",
       "    </tr>\n",
       "  </tbody>\n",
       "</table>\n",
       "<p>123733 rows × 2 columns</p>\n",
       "</div>"
      ],
      "text/plain": [
       "       CustomerCode  OrderQuantity\n",
       "0          02213019              1\n",
       "67249      18053075              1\n",
       "67247      18053072              1\n",
       "67245      18053055              1\n",
       "67243      18053019              1\n",
       "...             ...            ...\n",
       "119951     99003061             90\n",
       "97077      19080880             99\n",
       "10347      13032521            106\n",
       "44594      13215452            113\n",
       "89388      19057820            204\n",
       "\n",
       "[123733 rows x 2 columns]"
      ]
     },
     "execution_count": 8,
     "metadata": {},
     "output_type": "execute_result"
    }
   ],
   "source": [
    "(df.groupby('CustomerCode', as_index=False)\n",
    "     .agg({'InvoiceNo': 'count'})\n",
    "     .rename(columns={'InvoiceNo':'OrderQuantity'})\n",
    "     .sort_values('OrderQuantity')\n",
    ")"
   ]
  },
  {
   "cell_type": "code",
   "execution_count": 9,
   "id": "4d20b37b",
   "metadata": {},
   "outputs": [
    {
     "data": {
      "text/plain": [
       "InvoiceNo        object\n",
       "CustomerCode     object\n",
       "InvoiceDate      object\n",
       "Amount          float64\n",
       "dtype: object"
      ]
     },
     "execution_count": 9,
     "metadata": {},
     "output_type": "execute_result"
    }
   ],
   "source": [
    "df.dtypes"
   ]
  },
  {
   "cell_type": "code",
   "execution_count": 10,
   "id": "86ef6634",
   "metadata": {},
   "outputs": [],
   "source": [
    "df['InvoiceDate'] = pd.to_datetime(df['InvoiceDate'])"
   ]
  },
  {
   "cell_type": "code",
   "execution_count": 11,
   "id": "5414f36c",
   "metadata": {},
   "outputs": [
    {
     "data": {
      "text/plain": [
       "<pandas.core.strings.accessor.StringMethods at 0x7fa6ddfcbc10>"
      ]
     },
     "execution_count": 11,
     "metadata": {},
     "output_type": "execute_result"
    }
   ],
   "source": [
    "df['InvoiceNo'].apply('str')"
   ]
  },
  {
   "cell_type": "code",
   "execution_count": 12,
   "id": "a5ea6f1d",
   "metadata": {},
   "outputs": [
    {
     "data": {
      "text/plain": [
       "Timestamp('2020-09-30 00:00:00')"
      ]
     },
     "execution_count": 12,
     "metadata": {},
     "output_type": "execute_result"
    }
   ],
   "source": [
    "maxdate = df['InvoiceDate'].max()\n",
    "maxdate"
   ]
  },
  {
   "cell_type": "code",
   "execution_count": 13,
   "id": "062e08a0",
   "metadata": {},
   "outputs": [
    {
     "data": {
      "text/html": [
       "<div>\n",
       "<style scoped>\n",
       "    .dataframe tbody tr th:only-of-type {\n",
       "        vertical-align: middle;\n",
       "    }\n",
       "\n",
       "    .dataframe tbody tr th {\n",
       "        vertical-align: top;\n",
       "    }\n",
       "\n",
       "    .dataframe thead th {\n",
       "        text-align: right;\n",
       "    }\n",
       "</style>\n",
       "<table border=\"1\" class=\"dataframe\">\n",
       "  <thead>\n",
       "    <tr style=\"text-align: right;\">\n",
       "      <th></th>\n",
       "      <th>InvoiceNo</th>\n",
       "      <th>CustomerCode</th>\n",
       "      <th>InvoiceDate</th>\n",
       "      <th>Amount</th>\n",
       "    </tr>\n",
       "  </thead>\n",
       "  <tbody>\n",
       "    <tr>\n",
       "      <th>0</th>\n",
       "      <td>C0011810010001</td>\n",
       "      <td>19067290</td>\n",
       "      <td>2020-09-01</td>\n",
       "      <td>1716.00</td>\n",
       "    </tr>\n",
       "    <tr>\n",
       "      <th>1</th>\n",
       "      <td>C0011810010017</td>\n",
       "      <td>13233933</td>\n",
       "      <td>2020-09-01</td>\n",
       "      <td>1489.74</td>\n",
       "    </tr>\n",
       "    <tr>\n",
       "      <th>2</th>\n",
       "      <td>C0011810010020</td>\n",
       "      <td>99057968</td>\n",
       "      <td>2020-09-01</td>\n",
       "      <td>151.47</td>\n",
       "    </tr>\n",
       "    <tr>\n",
       "      <th>3</th>\n",
       "      <td>C0011810010021</td>\n",
       "      <td>80007276</td>\n",
       "      <td>2020-09-01</td>\n",
       "      <td>146.72</td>\n",
       "    </tr>\n",
       "    <tr>\n",
       "      <th>4</th>\n",
       "      <td>C0011810010024</td>\n",
       "      <td>13164076</td>\n",
       "      <td>2020-09-01</td>\n",
       "      <td>104.00</td>\n",
       "    </tr>\n",
       "  </tbody>\n",
       "</table>\n",
       "</div>"
      ],
      "text/plain": [
       "        InvoiceNo CustomerCode InvoiceDate   Amount\n",
       "0  C0011810010001     19067290  2020-09-01  1716.00\n",
       "1  C0011810010017     13233933  2020-09-01  1489.74\n",
       "2  C0011810010020     99057968  2020-09-01   151.47\n",
       "3  C0011810010021     80007276  2020-09-01   146.72\n",
       "4  C0011810010024     13164076  2020-09-01   104.00"
      ]
     },
     "execution_count": 13,
     "metadata": {},
     "output_type": "execute_result"
    }
   ],
   "source": [
    "df.head()"
   ]
  },
  {
   "cell_type": "code",
   "execution_count": 14,
   "id": "e4c13f70",
   "metadata": {},
   "outputs": [],
   "source": [
    "rfm_table = df.groupby('CustomerCode').agg({'InvoiceDate': lambda x: (maxdate - x.max()).days,\n",
    "                                'InvoiceNo'  : lambda x: len(x),\n",
    "                                'Amount'     : lambda x: x.sum()                            \n",
    "                               }).copy()"
   ]
  },
  {
   "cell_type": "code",
   "execution_count": 15,
   "id": "a5b23d0c",
   "metadata": {},
   "outputs": [],
   "source": [
    "rfm_table = rfm_table.rename(columns={'InvoiceDate': 'recency', 'InvoiceNo': 'frequency', 'Amount': 'monetary'})"
   ]
  },
  {
   "cell_type": "code",
   "execution_count": 16,
   "id": "2a62cd93",
   "metadata": {},
   "outputs": [
    {
     "name": "stdout",
     "output_type": "stream",
     "text": [
      "<class 'pandas.core.frame.DataFrame'>\n",
      "Index: 123733 entries, 02213019 to 99099972\n",
      "Data columns (total 3 columns):\n",
      " #   Column     Non-Null Count   Dtype  \n",
      "---  ------     --------------   -----  \n",
      " 0   recency    123733 non-null  int64  \n",
      " 1   frequency  123733 non-null  int64  \n",
      " 2   monetary   123733 non-null  float64\n",
      "dtypes: float64(1), int64(2)\n",
      "memory usage: 3.8+ MB\n"
     ]
    }
   ],
   "source": [
    "rfm_table.info()"
   ]
  },
  {
   "cell_type": "code",
   "execution_count": 27,
   "id": "53cd9508",
   "metadata": {},
   "outputs": [
    {
     "data": {
      "text/plain": [
       "True"
      ]
     },
     "execution_count": 27,
     "metadata": {},
     "output_type": "execute_result"
    }
   ],
   "source": [
    "rfm_table.shape[0] == df.CustomerCode.nunique()"
   ]
  },
  {
   "cell_type": "code",
   "execution_count": 28,
   "id": "d4115241",
   "metadata": {},
   "outputs": [],
   "source": [
    "quantiles = rfm_table.quantile(q=(0.25, 0.5, 0.75))"
   ]
  },
  {
   "cell_type": "code",
   "execution_count": 29,
   "id": "93544204",
   "metadata": {},
   "outputs": [
    {
     "data": {
      "text/html": [
       "<div>\n",
       "<style scoped>\n",
       "    .dataframe tbody tr th:only-of-type {\n",
       "        vertical-align: middle;\n",
       "    }\n",
       "\n",
       "    .dataframe tbody tr th {\n",
       "        vertical-align: top;\n",
       "    }\n",
       "\n",
       "    .dataframe thead th {\n",
       "        text-align: right;\n",
       "    }\n",
       "</style>\n",
       "<table border=\"1\" class=\"dataframe\">\n",
       "  <thead>\n",
       "    <tr style=\"text-align: right;\">\n",
       "      <th></th>\n",
       "      <th>recency</th>\n",
       "      <th>frequency</th>\n",
       "      <th>monetary</th>\n",
       "    </tr>\n",
       "  </thead>\n",
       "  <tbody>\n",
       "    <tr>\n",
       "      <th>0.25</th>\n",
       "      <td>2.0</td>\n",
       "      <td>1.0</td>\n",
       "      <td>765.00</td>\n",
       "    </tr>\n",
       "    <tr>\n",
       "      <th>0.50</th>\n",
       "      <td>8.0</td>\n",
       "      <td>2.0</td>\n",
       "      <td>1834.48</td>\n",
       "    </tr>\n",
       "    <tr>\n",
       "      <th>0.75</th>\n",
       "      <td>16.0</td>\n",
       "      <td>3.0</td>\n",
       "      <td>4008.84</td>\n",
       "    </tr>\n",
       "  </tbody>\n",
       "</table>\n",
       "</div>"
      ],
      "text/plain": [
       "      recency  frequency  monetary\n",
       "0.25      2.0        1.0    765.00\n",
       "0.50      8.0        2.0   1834.48\n",
       "0.75     16.0        3.0   4008.84"
      ]
     },
     "execution_count": 29,
     "metadata": {},
     "output_type": "execute_result"
    }
   ],
   "source": [
    "quantiles"
   ]
  },
  {
   "cell_type": "code",
   "execution_count": 30,
   "id": "75eff937",
   "metadata": {},
   "outputs": [],
   "source": [
    "def RClass(value,parameter_name,quantiles_table):\n",
    "    if value <= quantiles_table[parameter_name][0.25]:\n",
    "        return 1\n",
    "    elif value <= quantiles_table[parameter_name][0.50]:\n",
    "        return 2\n",
    "    elif value <= quantiles_table[parameter_name][0.75]: \n",
    "        return 3\n",
    "    else:\n",
    "        return 4\n",
    "\n",
    "def FMClass(value, parameter_name,quantiles_table):\n",
    "    if value <= quantiles_table[parameter_name][0.25]:\n",
    "        return 4\n",
    "    elif value <= quantiles_table[parameter_name][0.50]:\n",
    "        return 3\n",
    "    elif value <= quantiles_table[parameter_name][0.75]: \n",
    "        return 2\n",
    "    else:\n",
    "        return 1\n"
   ]
  },
  {
   "cell_type": "code",
   "execution_count": 31,
   "id": "fed813b3",
   "metadata": {},
   "outputs": [],
   "source": [
    "rfm_table['R_Quartile'] = rfm_table['recency'].apply(RClass, args=('recency',quantiles))\n",
    "\n",
    "rfm_table['F_Quartile'] = rfm_table['frequency'].apply(FMClass, args=('frequency',quantiles))\n",
    "\n",
    "rfm_table['M_Quartile'] = rfm_table['monetary'].apply(FMClass, args=('monetary',quantiles))\n",
    "\n",
    "rfm_table['RFMClass'] = (\n",
    "                        rfm_table.R_Quartile.map(str) \n",
    "                        + rfm_table.F_Quartile.map(str)\n",
    "                        + rfm_table.M_Quartile.map(str)\n",
    "                        )"
   ]
  },
  {
   "cell_type": "code",
   "execution_count": 32,
   "id": "0e367873",
   "metadata": {},
   "outputs": [
    {
     "data": {
      "text/html": [
       "<div>\n",
       "<style scoped>\n",
       "    .dataframe tbody tr th:only-of-type {\n",
       "        vertical-align: middle;\n",
       "    }\n",
       "\n",
       "    .dataframe tbody tr th {\n",
       "        vertical-align: top;\n",
       "    }\n",
       "\n",
       "    .dataframe thead th {\n",
       "        text-align: right;\n",
       "    }\n",
       "</style>\n",
       "<table border=\"1\" class=\"dataframe\">\n",
       "  <thead>\n",
       "    <tr style=\"text-align: right;\">\n",
       "      <th></th>\n",
       "      <th>recency</th>\n",
       "      <th>frequency</th>\n",
       "      <th>monetary</th>\n",
       "      <th>R_Quartile</th>\n",
       "      <th>F_Quartile</th>\n",
       "      <th>M_Quartile</th>\n",
       "      <th>RFMClass</th>\n",
       "    </tr>\n",
       "    <tr>\n",
       "      <th>CustomerCode</th>\n",
       "      <th></th>\n",
       "      <th></th>\n",
       "      <th></th>\n",
       "      <th></th>\n",
       "      <th></th>\n",
       "      <th></th>\n",
       "      <th></th>\n",
       "    </tr>\n",
       "  </thead>\n",
       "  <tbody>\n",
       "    <tr>\n",
       "      <th>02213019</th>\n",
       "      <td>19</td>\n",
       "      <td>1</td>\n",
       "      <td>1609.20</td>\n",
       "      <td>4</td>\n",
       "      <td>4</td>\n",
       "      <td>3</td>\n",
       "      <td>443</td>\n",
       "    </tr>\n",
       "    <tr>\n",
       "      <th>02213042</th>\n",
       "      <td>22</td>\n",
       "      <td>3</td>\n",
       "      <td>9685.48</td>\n",
       "      <td>4</td>\n",
       "      <td>2</td>\n",
       "      <td>1</td>\n",
       "      <td>421</td>\n",
       "    </tr>\n",
       "    <tr>\n",
       "      <th>02213071</th>\n",
       "      <td>29</td>\n",
       "      <td>1</td>\n",
       "      <td>415.00</td>\n",
       "      <td>4</td>\n",
       "      <td>4</td>\n",
       "      <td>4</td>\n",
       "      <td>444</td>\n",
       "    </tr>\n",
       "    <tr>\n",
       "      <th>02213088</th>\n",
       "      <td>23</td>\n",
       "      <td>1</td>\n",
       "      <td>305.00</td>\n",
       "      <td>4</td>\n",
       "      <td>4</td>\n",
       "      <td>4</td>\n",
       "      <td>444</td>\n",
       "    </tr>\n",
       "    <tr>\n",
       "      <th>02213092</th>\n",
       "      <td>25</td>\n",
       "      <td>1</td>\n",
       "      <td>1412.88</td>\n",
       "      <td>4</td>\n",
       "      <td>4</td>\n",
       "      <td>3</td>\n",
       "      <td>443</td>\n",
       "    </tr>\n",
       "    <tr>\n",
       "      <th>02213128</th>\n",
       "      <td>24</td>\n",
       "      <td>2</td>\n",
       "      <td>2681.75</td>\n",
       "      <td>4</td>\n",
       "      <td>3</td>\n",
       "      <td>2</td>\n",
       "      <td>432</td>\n",
       "    </tr>\n",
       "    <tr>\n",
       "      <th>02213129</th>\n",
       "      <td>1</td>\n",
       "      <td>4</td>\n",
       "      <td>2199.00</td>\n",
       "      <td>1</td>\n",
       "      <td>1</td>\n",
       "      <td>2</td>\n",
       "      <td>112</td>\n",
       "    </tr>\n",
       "    <tr>\n",
       "      <th>02213155</th>\n",
       "      <td>27</td>\n",
       "      <td>1</td>\n",
       "      <td>1667.40</td>\n",
       "      <td>4</td>\n",
       "      <td>4</td>\n",
       "      <td>3</td>\n",
       "      <td>443</td>\n",
       "    </tr>\n",
       "    <tr>\n",
       "      <th>02213163</th>\n",
       "      <td>5</td>\n",
       "      <td>1</td>\n",
       "      <td>328.76</td>\n",
       "      <td>2</td>\n",
       "      <td>4</td>\n",
       "      <td>4</td>\n",
       "      <td>244</td>\n",
       "    </tr>\n",
       "    <tr>\n",
       "      <th>02213167</th>\n",
       "      <td>3</td>\n",
       "      <td>2</td>\n",
       "      <td>1531.29</td>\n",
       "      <td>2</td>\n",
       "      <td>3</td>\n",
       "      <td>3</td>\n",
       "      <td>233</td>\n",
       "    </tr>\n",
       "  </tbody>\n",
       "</table>\n",
       "</div>"
      ],
      "text/plain": [
       "              recency  frequency  monetary  R_Quartile  F_Quartile  \\\n",
       "CustomerCode                                                         \n",
       "02213019           19          1   1609.20           4           4   \n",
       "02213042           22          3   9685.48           4           2   \n",
       "02213071           29          1    415.00           4           4   \n",
       "02213088           23          1    305.00           4           4   \n",
       "02213092           25          1   1412.88           4           4   \n",
       "02213128           24          2   2681.75           4           3   \n",
       "02213129            1          4   2199.00           1           1   \n",
       "02213155           27          1   1667.40           4           4   \n",
       "02213163            5          1    328.76           2           4   \n",
       "02213167            3          2   1531.29           2           3   \n",
       "\n",
       "              M_Quartile RFMClass  \n",
       "CustomerCode                       \n",
       "02213019               3      443  \n",
       "02213042               1      421  \n",
       "02213071               4      444  \n",
       "02213088               4      444  \n",
       "02213092               3      443  \n",
       "02213128               2      432  \n",
       "02213129               2      112  \n",
       "02213155               3      443  \n",
       "02213163               4      244  \n",
       "02213167               3      233  "
      ]
     },
     "execution_count": 32,
     "metadata": {},
     "output_type": "execute_result"
    }
   ],
   "source": [
    "rfm_table.head(10)"
   ]
  },
  {
   "cell_type": "code",
   "execution_count": 34,
   "id": "d9962d08",
   "metadata": {},
   "outputs": [
    {
     "name": "stdout",
     "output_type": "stream",
     "text": [
      "Максимальное количество покупок, совершенное одним пользователем равно 204\n"
     ]
    }
   ],
   "source": [
    "print('Максимальное количество покупок, совершенное одним пользователем равно', rfm_table['frequency'].max())"
   ]
  },
  {
   "cell_type": "code",
   "execution_count": 37,
   "id": "15e22a5b",
   "metadata": {},
   "outputs": [
    {
     "name": "stdout",
     "output_type": "stream",
     "text": [
      "Верхняя граница у суммы покупок у пользователей с классом 4 в подсегменте М равна 765.0\n"
     ]
    }
   ],
   "source": [
    "print('Верхняя граница у суммы покупок у пользователей с классом 4 в подсегменте М равна',\n",
    "      rfm_table[rfm_table.M_Quartile == 4].monetary.max())"
   ]
  },
  {
   "cell_type": "code",
   "execution_count": 39,
   "id": "238a0b3a",
   "metadata": {},
   "outputs": [
    {
     "name": "stdout",
     "output_type": "stream",
     "text": [
      "Нижняя граница у количества покупок у пользователей с классом 1 в подсегменте F равна 4\n"
     ]
    }
   ],
   "source": [
    "print('Нижняя граница у количества покупок у пользователей с классом 1 в подсегменте F равна', \n",
    "      rfm_table[rfm_table.F_Quartile == 1].frequency.min())"
   ]
  },
  {
   "cell_type": "code",
   "execution_count": 48,
   "id": "e2b74947",
   "metadata": {},
   "outputs": [
    {
     "name": "stdout",
     "output_type": "stream",
     "text": [
      "Верхняя граница с момента последней покупки для 2-го класса в подсегменте R составляет 8 дней\n"
     ]
    }
   ],
   "source": [
    "print(f'Верхняя граница с момента последней покупки \\\n",
    "для 2-го класса в подсегменте R составляет \\\n",
    "{rfm_table[rfm_table.R_Quartile == 2].recency.max()} дней')"
   ]
  },
  {
   "cell_type": "code",
   "execution_count": 53,
   "id": "d2b78440",
   "metadata": {},
   "outputs": [
    {
     "name": "stdout",
     "output_type": "stream",
     "text": [
      "Количество пользователей в сегменте 111 равно 9705\n"
     ]
    }
   ],
   "source": [
    "print('Количество пользователей в сегменте 111 равно', rfm_table[rfm_table.RFMClass == '111'].shape[0])"
   ]
  },
  {
   "cell_type": "code",
   "execution_count": 55,
   "id": "3ea041a1",
   "metadata": {},
   "outputs": [
    {
     "name": "stdout",
     "output_type": "stream",
     "text": [
      "Количество пользователей в сегменте 311 равно 1609\n"
     ]
    }
   ],
   "source": [
    "print('Количество пользователей в сегменте 311 равно', rfm_table[rfm_table.RFMClass == '311'].shape[0])"
   ]
  },
  {
   "cell_type": "code",
   "execution_count": 58,
   "id": "1779ca3f",
   "metadata": {},
   "outputs": [
    {
     "data": {
      "text/plain": [
       "444    10624\n",
       "111     9705\n",
       "443     6729\n",
       "344     6593\n",
       "211     5847\n",
       "       ...  \n",
       "424       63\n",
       "114       60\n",
       "214       60\n",
       "314       33\n",
       "414        2\n",
       "Name: RFMClass, Length: 64, dtype: int64"
      ]
     },
     "execution_count": 58,
     "metadata": {},
     "output_type": "execute_result"
    }
   ],
   "source": [
    "rfm_table.RFMClass.value_counts()"
   ]
  },
  {
   "cell_type": "markdown",
   "id": "bf05a912",
   "metadata": {},
   "source": [
    "Наибольшее количество пользователей в сегменте 444, наименьшее - в 414"
   ]
  }
 ],
 "metadata": {
  "kernelspec": {
   "display_name": "Python 3 (ipykernel)",
   "language": "python",
   "name": "python3"
  },
  "language_info": {
   "codemirror_mode": {
    "name": "ipython",
    "version": 3
   },
   "file_extension": ".py",
   "mimetype": "text/x-python",
   "name": "python",
   "nbconvert_exporter": "python",
   "pygments_lexer": "ipython3",
   "version": "3.9.12"
  }
 },
 "nbformat": 4,
 "nbformat_minor": 5
}
