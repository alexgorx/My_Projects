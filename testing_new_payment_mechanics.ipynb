{
 "cells": [
  {
   "cell_type": "markdown",
   "id": "62726aa4",
   "metadata": {},
   "source": [
    "#### Задание 1. A/B–тестирование\n",
    "1.1 Условие\n",
    "\n",
    "Одной из основных задач аналитика в нашей команде является корректное проведение экспериментов. Для этого мы применяем метод A/B–тестирования. В ходе тестирования одной гипотезы целевой группе была предложена новая механика оплаты услуг на сайте, у контрольной группы оставалась базовая механика. В качестве задания Вам необходимо проанализировать итоги эксперимента и сделать вывод, стоит ли запускать новую механику оплаты на всех пользователей.\n",
    "\n",
    "1.2 Входные данные\n",
    "\n",
    "В качестве входных данных Вы имеете 4 csv-файла:\n",
    "\n",
    "__groups.csv__ - файл с информацией о принадлежности пользователя к контрольной или экспериментальной группе (А – контроль, B – целевая группа) \n",
    "__groups_add.csv__ - дополнительный файл с пользователями, который вам прислали спустя 2 дня после передачи данных\n",
    "__active_studs.csv__ - файл с информацией о пользователях, которые зашли на платформу в дни проведения эксперимента. \n",
    "__checks.csv__ - файл с информацией об оплатах пользователей в дни проведения эксперимента. "
   ]
  },
  {
   "cell_type": "code",
   "execution_count": 113,
   "id": "006227c1",
   "metadata": {},
   "outputs": [],
   "source": [
    "import pandas as pd\n",
    "import pandahouse as ph\n",
    "import numpy as np\n",
    "import seaborn as sns\n",
    "import scipy.stats as stats\n",
    "from scipy.stats import norm\n",
    "import matplotlib.pyplot as plt\n",
    "\n",
    "from tqdm.auto import tqdm\n",
    "\n",
    "plt.style.use('ggplot')"
   ]
  },
  {
   "cell_type": "code",
   "execution_count": 83,
   "id": "13ba042f",
   "metadata": {},
   "outputs": [],
   "source": [
    "groups = pd.read_csv('https://getfile.dokpub.com/yandex/get/', sep = ';')\n",
    "groups_add = pd.read_csv('https://getfile.dokpub.com/yandex/get/', sep = ',')\n",
    "activ_studs = pd.read_csv('https://getfile.dokpub.com/yandex/get', sep = ';')\n",
    "checks = pd.read_csv('https://getfile.dokpub.com/yandex/get', sep = ';')"
   ]
  },
  {
   "cell_type": "markdown",
   "id": "8f0c1b36",
   "metadata": {},
   "source": [
    "Проведем разведанализ наших данных"
   ]
  },
  {
   "cell_type": "code",
   "execution_count": 84,
   "id": "41638d9b",
   "metadata": {},
   "outputs": [
    {
     "data": {
      "text/html": [
       "<div>\n",
       "<style scoped>\n",
       "    .dataframe tbody tr th:only-of-type {\n",
       "        vertical-align: middle;\n",
       "    }\n",
       "\n",
       "    .dataframe tbody tr th {\n",
       "        vertical-align: top;\n",
       "    }\n",
       "\n",
       "    .dataframe thead th {\n",
       "        text-align: right;\n",
       "    }\n",
       "</style>\n",
       "<table border=\"1\" class=\"dataframe\">\n",
       "  <thead>\n",
       "    <tr style=\"text-align: right;\">\n",
       "      <th></th>\n",
       "      <th>id</th>\n",
       "      <th>grp</th>\n",
       "    </tr>\n",
       "  </thead>\n",
       "  <tbody>\n",
       "    <tr>\n",
       "      <th>0</th>\n",
       "      <td>1489</td>\n",
       "      <td>B</td>\n",
       "    </tr>\n",
       "    <tr>\n",
       "      <th>1</th>\n",
       "      <td>1627</td>\n",
       "      <td>A</td>\n",
       "    </tr>\n",
       "    <tr>\n",
       "      <th>2</th>\n",
       "      <td>1768</td>\n",
       "      <td>B</td>\n",
       "    </tr>\n",
       "    <tr>\n",
       "      <th>3</th>\n",
       "      <td>1783</td>\n",
       "      <td>B</td>\n",
       "    </tr>\n",
       "    <tr>\n",
       "      <th>4</th>\n",
       "      <td>1794</td>\n",
       "      <td>A</td>\n",
       "    </tr>\n",
       "  </tbody>\n",
       "</table>\n",
       "</div>"
      ],
      "text/plain": [
       "     id grp\n",
       "0  1489   B\n",
       "1  1627   A\n",
       "2  1768   B\n",
       "3  1783   B\n",
       "4  1794   A"
      ]
     },
     "execution_count": 84,
     "metadata": {},
     "output_type": "execute_result"
    }
   ],
   "source": [
    "groups.head()"
   ]
  },
  {
   "cell_type": "code",
   "execution_count": 85,
   "id": "71dcccc2",
   "metadata": {},
   "outputs": [
    {
     "name": "stdout",
     "output_type": "stream",
     "text": [
      "<class 'pandas.core.frame.DataFrame'>\n",
      "RangeIndex: 74484 entries, 0 to 74483\n",
      "Data columns (total 2 columns):\n",
      " #   Column  Non-Null Count  Dtype \n",
      "---  ------  --------------  ----- \n",
      " 0   id      74484 non-null  int64 \n",
      " 1   grp     74484 non-null  object\n",
      "dtypes: int64(1), object(1)\n",
      "memory usage: 1.1+ MB\n"
     ]
    }
   ],
   "source": [
    "groups.info()"
   ]
  },
  {
   "cell_type": "code",
   "execution_count": 86,
   "id": "b2dd8041",
   "metadata": {},
   "outputs": [
    {
     "data": {
      "text/plain": [
       "array(['B', 'A'], dtype=object)"
      ]
     },
     "execution_count": 86,
     "metadata": {},
     "output_type": "execute_result"
    }
   ],
   "source": [
    "groups.grp.unique()"
   ]
  },
  {
   "cell_type": "code",
   "execution_count": 87,
   "id": "c9ab3022",
   "metadata": {},
   "outputs": [
    {
     "data": {
      "text/plain": [
       "B    59813\n",
       "A    14671\n",
       "Name: grp, dtype: int64"
      ]
     },
     "execution_count": 87,
     "metadata": {},
     "output_type": "execute_result"
    }
   ],
   "source": [
    "groups.grp.value_counts()"
   ]
  },
  {
   "cell_type": "markdown",
   "id": "57584a7f",
   "metadata": {},
   "source": [
    "В размерах выборок видим существенную разницу - в тестовой количество наблюдений в четыре раза больше, чем в контрольной. Неоднозначное решение о разбивке групп, с предоставлением такого приоритета тестовой."
   ]
  },
  {
   "cell_type": "code",
   "execution_count": 88,
   "id": "575e406b",
   "metadata": {},
   "outputs": [
    {
     "data": {
      "text/html": [
       "<div>\n",
       "<style scoped>\n",
       "    .dataframe tbody tr th:only-of-type {\n",
       "        vertical-align: middle;\n",
       "    }\n",
       "\n",
       "    .dataframe tbody tr th {\n",
       "        vertical-align: top;\n",
       "    }\n",
       "\n",
       "    .dataframe thead th {\n",
       "        text-align: right;\n",
       "    }\n",
       "</style>\n",
       "<table border=\"1\" class=\"dataframe\">\n",
       "  <thead>\n",
       "    <tr style=\"text-align: right;\">\n",
       "      <th></th>\n",
       "      <th>student_id</th>\n",
       "    </tr>\n",
       "  </thead>\n",
       "  <tbody>\n",
       "    <tr>\n",
       "      <th>0</th>\n",
       "      <td>581585</td>\n",
       "    </tr>\n",
       "    <tr>\n",
       "      <th>1</th>\n",
       "      <td>5723133</td>\n",
       "    </tr>\n",
       "    <tr>\n",
       "      <th>2</th>\n",
       "      <td>3276743</td>\n",
       "    </tr>\n",
       "    <tr>\n",
       "      <th>3</th>\n",
       "      <td>4238589</td>\n",
       "    </tr>\n",
       "    <tr>\n",
       "      <th>4</th>\n",
       "      <td>4475369</td>\n",
       "    </tr>\n",
       "  </tbody>\n",
       "</table>\n",
       "</div>"
      ],
      "text/plain": [
       "   student_id\n",
       "0      581585\n",
       "1     5723133\n",
       "2     3276743\n",
       "3     4238589\n",
       "4     4475369"
      ]
     },
     "execution_count": 88,
     "metadata": {},
     "output_type": "execute_result"
    }
   ],
   "source": [
    "activ_studs.head()"
   ]
  },
  {
   "cell_type": "code",
   "execution_count": 89,
   "id": "2c9bbc88",
   "metadata": {},
   "outputs": [
    {
     "name": "stdout",
     "output_type": "stream",
     "text": [
      "<class 'pandas.core.frame.DataFrame'>\n",
      "RangeIndex: 8341 entries, 0 to 8340\n",
      "Data columns (total 1 columns):\n",
      " #   Column      Non-Null Count  Dtype\n",
      "---  ------      --------------  -----\n",
      " 0   student_id  8341 non-null   int64\n",
      "dtypes: int64(1)\n",
      "memory usage: 65.3 KB\n"
     ]
    }
   ],
   "source": [
    "activ_studs.info()"
   ]
  },
  {
   "cell_type": "code",
   "execution_count": 90,
   "id": "b5d664dd",
   "metadata": {},
   "outputs": [
    {
     "data": {
      "text/html": [
       "<div>\n",
       "<style scoped>\n",
       "    .dataframe tbody tr th:only-of-type {\n",
       "        vertical-align: middle;\n",
       "    }\n",
       "\n",
       "    .dataframe tbody tr th {\n",
       "        vertical-align: top;\n",
       "    }\n",
       "\n",
       "    .dataframe thead th {\n",
       "        text-align: right;\n",
       "    }\n",
       "</style>\n",
       "<table border=\"1\" class=\"dataframe\">\n",
       "  <thead>\n",
       "    <tr style=\"text-align: right;\">\n",
       "      <th></th>\n",
       "      <th>student_id</th>\n",
       "      <th>rev</th>\n",
       "    </tr>\n",
       "  </thead>\n",
       "  <tbody>\n",
       "    <tr>\n",
       "      <th>0</th>\n",
       "      <td>1627</td>\n",
       "      <td>990.0</td>\n",
       "    </tr>\n",
       "    <tr>\n",
       "      <th>1</th>\n",
       "      <td>3185</td>\n",
       "      <td>690.0</td>\n",
       "    </tr>\n",
       "    <tr>\n",
       "      <th>2</th>\n",
       "      <td>25973</td>\n",
       "      <td>690.0</td>\n",
       "    </tr>\n",
       "    <tr>\n",
       "      <th>3</th>\n",
       "      <td>26280</td>\n",
       "      <td>690.0</td>\n",
       "    </tr>\n",
       "    <tr>\n",
       "      <th>4</th>\n",
       "      <td>100300</td>\n",
       "      <td>990.0</td>\n",
       "    </tr>\n",
       "  </tbody>\n",
       "</table>\n",
       "</div>"
      ],
      "text/plain": [
       "   student_id    rev\n",
       "0        1627  990.0\n",
       "1        3185  690.0\n",
       "2       25973  690.0\n",
       "3       26280  690.0\n",
       "4      100300  990.0"
      ]
     },
     "execution_count": 90,
     "metadata": {},
     "output_type": "execute_result"
    }
   ],
   "source": [
    "checks.head()"
   ]
  },
  {
   "cell_type": "code",
   "execution_count": 91,
   "id": "57f860f8",
   "metadata": {},
   "outputs": [
    {
     "name": "stdout",
     "output_type": "stream",
     "text": [
      "<class 'pandas.core.frame.DataFrame'>\n",
      "RangeIndex: 541 entries, 0 to 540\n",
      "Data columns (total 2 columns):\n",
      " #   Column      Non-Null Count  Dtype  \n",
      "---  ------      --------------  -----  \n",
      " 0   student_id  541 non-null    int64  \n",
      " 1   rev         541 non-null    float64\n",
      "dtypes: float64(1), int64(1)\n",
      "memory usage: 8.6 KB\n"
     ]
    }
   ],
   "source": [
    "checks.info()"
   ]
  },
  {
   "cell_type": "markdown",
   "id": "b3ec20cc",
   "metadata": {},
   "source": [
    "Перед тем, как приступить к проведению тестов, определимся с метрикой. Нам необходимо выбрать метрику для, которая бы учитывала как конверсию пользователя, так и непосредственнос финансовую составляющую. Наиболее подходящим выбором в данном случае кажется средний доход на пользователя (ARPU), так как метрика учитывает, как конверсию, так и средний чек (ARPU=Конверсия⋅ARPPU, при этом ARPPU=\"Число повторных покупок\" * \"Средний чек\"). Если мы выберем в качестве целевой метрики только конверсию, то никак не отследим, насколько изменился доход от наших нововведений, а выбор ARPPU (дохода на платящего пользователя) или среднего чека не будет учитывать конверсию. "
   ]
  },
  {
   "cell_type": "markdown",
   "id": "4a99c276",
   "metadata": {},
   "source": [
    "Пропусков в данных не обнаружено, типы данных не конфликтуют с логикой столбцов. Для дальнейшей работы сджойним три имеющиеся таблицы в одну"
   ]
  },
  {
   "cell_type": "code",
   "execution_count": 92,
   "id": "cc3775f7",
   "metadata": {},
   "outputs": [
    {
     "data": {
      "text/html": [
       "<div>\n",
       "<style scoped>\n",
       "    .dataframe tbody tr th:only-of-type {\n",
       "        vertical-align: middle;\n",
       "    }\n",
       "\n",
       "    .dataframe tbody tr th {\n",
       "        vertical-align: top;\n",
       "    }\n",
       "\n",
       "    .dataframe thead th {\n",
       "        text-align: right;\n",
       "    }\n",
       "</style>\n",
       "<table border=\"1\" class=\"dataframe\">\n",
       "  <thead>\n",
       "    <tr style=\"text-align: right;\">\n",
       "      <th></th>\n",
       "      <th>student_id</th>\n",
       "      <th>grp</th>\n",
       "    </tr>\n",
       "  </thead>\n",
       "  <tbody>\n",
       "    <tr>\n",
       "      <th>0</th>\n",
       "      <td>1489</td>\n",
       "      <td>B</td>\n",
       "    </tr>\n",
       "    <tr>\n",
       "      <th>1</th>\n",
       "      <td>1627</td>\n",
       "      <td>A</td>\n",
       "    </tr>\n",
       "    <tr>\n",
       "      <th>2</th>\n",
       "      <td>1768</td>\n",
       "      <td>B</td>\n",
       "    </tr>\n",
       "    <tr>\n",
       "      <th>3</th>\n",
       "      <td>1783</td>\n",
       "      <td>B</td>\n",
       "    </tr>\n",
       "    <tr>\n",
       "      <th>4</th>\n",
       "      <td>1794</td>\n",
       "      <td>A</td>\n",
       "    </tr>\n",
       "  </tbody>\n",
       "</table>\n",
       "</div>"
      ],
      "text/plain": [
       "   student_id grp\n",
       "0        1489   B\n",
       "1        1627   A\n",
       "2        1768   B\n",
       "3        1783   B\n",
       "4        1794   A"
      ]
     },
     "execution_count": 92,
     "metadata": {},
     "output_type": "execute_result"
    }
   ],
   "source": [
    "groups = groups.rename(columns={'id': 'student_id'})\n",
    "groups.head()"
   ]
  },
  {
   "cell_type": "code",
   "execution_count": 93,
   "id": "a37bec69",
   "metadata": {},
   "outputs": [
    {
     "data": {
      "text/plain": [
       "392"
      ]
     },
     "execution_count": 93,
     "metadata": {},
     "output_type": "execute_result"
    }
   ],
   "source": [
    "activ_studs.merge(checks, how='left', on='student_id').rev.value_counts().sum()"
   ]
  },
  {
   "cell_type": "code",
   "execution_count": 94,
   "id": "eba12817",
   "metadata": {},
   "outputs": [
    {
     "data": {
      "text/plain": [
       "540"
      ]
     },
     "execution_count": 94,
     "metadata": {},
     "output_type": "execute_result"
    }
   ],
   "source": [
    "groups.merge(checks, how='left', on='student_id').rev.value_counts().sum()"
   ]
  },
  {
   "cell_type": "code",
   "execution_count": 95,
   "id": "9e869dc9",
   "metadata": {},
   "outputs": [
    {
     "data": {
      "text/plain": [
       "0.725925925925926"
      ]
     },
     "execution_count": 95,
     "metadata": {},
     "output_type": "execute_result"
    }
   ],
   "source": [
    "392 / 540"
   ]
  },
  {
   "cell_type": "markdown",
   "id": "a85cca7b",
   "metadata": {},
   "source": [
    "Видим, что при джойне таблицы активных пользователей с таблицей оплат мы теряем почти 150 (28%) пользователей, оплативших курсы. Это может быть связано как с ошибкой сбора данных, так и с тем, что часть старых пользователей оплатила курсы по ранее сохраненной ссылке, либо же проплаты по каким-то причинам задержались.\n",
    "\n",
    "Сджойним таблицы так, чтобы не потерять информацию о платежах и активных пользователях"
   ]
  },
  {
   "cell_type": "code",
   "execution_count": 98,
   "id": "dbf1ca22",
   "metadata": {},
   "outputs": [
    {
     "data": {
      "text/html": [
       "<div>\n",
       "<style scoped>\n",
       "    .dataframe tbody tr th:only-of-type {\n",
       "        vertical-align: middle;\n",
       "    }\n",
       "\n",
       "    .dataframe tbody tr th {\n",
       "        vertical-align: top;\n",
       "    }\n",
       "\n",
       "    .dataframe thead th {\n",
       "        text-align: right;\n",
       "    }\n",
       "</style>\n",
       "<table border=\"1\" class=\"dataframe\">\n",
       "  <thead>\n",
       "    <tr style=\"text-align: right;\">\n",
       "      <th></th>\n",
       "      <th>student_id</th>\n",
       "      <th>rev</th>\n",
       "      <th>grp</th>\n",
       "    </tr>\n",
       "  </thead>\n",
       "  <tbody>\n",
       "    <tr>\n",
       "      <th>0</th>\n",
       "      <td>581585</td>\n",
       "      <td>NaN</td>\n",
       "      <td>A</td>\n",
       "    </tr>\n",
       "    <tr>\n",
       "      <th>1</th>\n",
       "      <td>5723133</td>\n",
       "      <td>NaN</td>\n",
       "      <td>NaN</td>\n",
       "    </tr>\n",
       "    <tr>\n",
       "      <th>2</th>\n",
       "      <td>3276743</td>\n",
       "      <td>NaN</td>\n",
       "      <td>B</td>\n",
       "    </tr>\n",
       "    <tr>\n",
       "      <th>3</th>\n",
       "      <td>4238589</td>\n",
       "      <td>NaN</td>\n",
       "      <td>A</td>\n",
       "    </tr>\n",
       "    <tr>\n",
       "      <th>4</th>\n",
       "      <td>4475369</td>\n",
       "      <td>NaN</td>\n",
       "      <td>B</td>\n",
       "    </tr>\n",
       "  </tbody>\n",
       "</table>\n",
       "</div>"
      ],
      "text/plain": [
       "   student_id  rev  grp\n",
       "0      581585  NaN    A\n",
       "1     5723133  NaN  NaN\n",
       "2     3276743  NaN    B\n",
       "3     4238589  NaN    A\n",
       "4     4475369  NaN    B"
      ]
     },
     "execution_count": 98,
     "metadata": {},
     "output_type": "execute_result"
    }
   ],
   "source": [
    "activ_groups = activ_studs.merge(checks, how='outer', on='student_id')\n",
    "activ_groups = activ_groups.merge(groups, how='left', on='student_id')\n",
    "activ_groups.head()"
   ]
  },
  {
   "cell_type": "code",
   "execution_count": 99,
   "id": "c2a5c54a",
   "metadata": {},
   "outputs": [
    {
     "data": {
      "text/plain": [
       "B      6913\n",
       "A      1564\n",
       "NaN      13\n",
       "Name: grp, dtype: int64"
      ]
     },
     "execution_count": 99,
     "metadata": {},
     "output_type": "execute_result"
    }
   ],
   "source": [
    "activ_groups['grp'].value_counts(dropna=False)"
   ]
  },
  {
   "cell_type": "code",
   "execution_count": 100,
   "id": "f1536e58",
   "metadata": {},
   "outputs": [
    {
     "data": {
      "text/html": [
       "<div>\n",
       "<style scoped>\n",
       "    .dataframe tbody tr th:only-of-type {\n",
       "        vertical-align: middle;\n",
       "    }\n",
       "\n",
       "    .dataframe tbody tr th {\n",
       "        vertical-align: top;\n",
       "    }\n",
       "\n",
       "    .dataframe thead th {\n",
       "        text-align: right;\n",
       "    }\n",
       "</style>\n",
       "<table border=\"1\" class=\"dataframe\">\n",
       "  <thead>\n",
       "    <tr style=\"text-align: right;\">\n",
       "      <th></th>\n",
       "      <th>student_id</th>\n",
       "      <th>rev</th>\n",
       "      <th>grp</th>\n",
       "    </tr>\n",
       "  </thead>\n",
       "  <tbody>\n",
       "    <tr>\n",
       "      <th>1</th>\n",
       "      <td>5723133</td>\n",
       "      <td>NaN</td>\n",
       "      <td>NaN</td>\n",
       "    </tr>\n",
       "    <tr>\n",
       "      <th>111</th>\n",
       "      <td>5951797</td>\n",
       "      <td>NaN</td>\n",
       "      <td>NaN</td>\n",
       "    </tr>\n",
       "    <tr>\n",
       "      <th>632</th>\n",
       "      <td>5730382</td>\n",
       "      <td>NaN</td>\n",
       "      <td>NaN</td>\n",
       "    </tr>\n",
       "    <tr>\n",
       "      <th>2662</th>\n",
       "      <td>5739944</td>\n",
       "      <td>NaN</td>\n",
       "      <td>NaN</td>\n",
       "    </tr>\n",
       "    <tr>\n",
       "      <th>3830</th>\n",
       "      <td>5945085</td>\n",
       "      <td>NaN</td>\n",
       "      <td>NaN</td>\n",
       "    </tr>\n",
       "    <tr>\n",
       "      <th>4900</th>\n",
       "      <td>5700613</td>\n",
       "      <td>NaN</td>\n",
       "      <td>NaN</td>\n",
       "    </tr>\n",
       "    <tr>\n",
       "      <th>5254</th>\n",
       "      <td>5729371</td>\n",
       "      <td>NaN</td>\n",
       "      <td>NaN</td>\n",
       "    </tr>\n",
       "    <tr>\n",
       "      <th>5746</th>\n",
       "      <td>5777081</td>\n",
       "      <td>NaN</td>\n",
       "      <td>NaN</td>\n",
       "    </tr>\n",
       "    <tr>\n",
       "      <th>7413</th>\n",
       "      <td>5740903</td>\n",
       "      <td>1900.0</td>\n",
       "      <td>NaN</td>\n",
       "    </tr>\n",
       "    <tr>\n",
       "      <th>7505</th>\n",
       "      <td>5760471</td>\n",
       "      <td>NaN</td>\n",
       "      <td>NaN</td>\n",
       "    </tr>\n",
       "    <tr>\n",
       "      <th>7535</th>\n",
       "      <td>5728431</td>\n",
       "      <td>NaN</td>\n",
       "      <td>NaN</td>\n",
       "    </tr>\n",
       "    <tr>\n",
       "      <th>7647</th>\n",
       "      <td>5723648</td>\n",
       "      <td>NaN</td>\n",
       "      <td>NaN</td>\n",
       "    </tr>\n",
       "    <tr>\n",
       "      <th>7668</th>\n",
       "      <td>5870856</td>\n",
       "      <td>NaN</td>\n",
       "      <td>NaN</td>\n",
       "    </tr>\n",
       "  </tbody>\n",
       "</table>\n",
       "</div>"
      ],
      "text/plain": [
       "      student_id     rev  grp\n",
       "1        5723133     NaN  NaN\n",
       "111      5951797     NaN  NaN\n",
       "632      5730382     NaN  NaN\n",
       "2662     5739944     NaN  NaN\n",
       "3830     5945085     NaN  NaN\n",
       "4900     5700613     NaN  NaN\n",
       "5254     5729371     NaN  NaN\n",
       "5746     5777081     NaN  NaN\n",
       "7413     5740903  1900.0  NaN\n",
       "7505     5760471     NaN  NaN\n",
       "7535     5728431     NaN  NaN\n",
       "7647     5723648     NaN  NaN\n",
       "7668     5870856     NaN  NaN"
      ]
     },
     "execution_count": 100,
     "metadata": {},
     "output_type": "execute_result"
    }
   ],
   "source": [
    "activ_groups[activ_groups['grp'].isna() == True]"
   ]
  },
  {
   "cell_type": "markdown",
   "id": "c9488757",
   "metadata": {},
   "source": [
    "В итоговой таблице остались 13 неопределенных пользователей, у одного из которых есть проплата. Посмотрим какие уникальные варианты оплаты есть в кадой группе."
   ]
  },
  {
   "cell_type": "code",
   "execution_count": 101,
   "id": "8b391cfa",
   "metadata": {},
   "outputs": [
    {
     "data": {
      "text/plain": [
       "array([  nan, 1530., 1980.,  580., 2910.,  690., 3660.,  840.,  590.,\n",
       "        290., 1180.,  199., 1140.,  489., 2890., 1160., 2820., 2900.,\n",
       "       1039., 1830., 2220.,  990.,  870.,  398.])"
      ]
     },
     "execution_count": 101,
     "metadata": {},
     "output_type": "execute_result"
    }
   ],
   "source": [
    "activ_groups[activ_groups['grp'] == 'A']['rev'].unique()"
   ]
  },
  {
   "cell_type": "code",
   "execution_count": 102,
   "id": "152d5c7c",
   "metadata": {},
   "outputs": [
    {
     "data": {
      "text/plain": [
       "290.0     31\n",
       "690.0     19\n",
       "199.0      7\n",
       "580.0      6\n",
       "990.0      6\n",
       "1140.0     5\n",
       "590.0      5\n",
       "1530.0     3\n",
       "840.0      3\n",
       "3660.0     3\n",
       "1980.0     2\n",
       "489.0      2\n",
       "1160.0     2\n",
       "2820.0     2\n",
       "2910.0     2\n",
       "398.0      2\n",
       "1180.0     1\n",
       "2890.0     1\n",
       "2900.0     1\n",
       "1039.0     1\n",
       "1830.0     1\n",
       "2220.0     1\n",
       "870.0      1\n",
       "Name: rev, dtype: int64"
      ]
     },
     "execution_count": 102,
     "metadata": {},
     "output_type": "execute_result"
    }
   ],
   "source": [
    "activ_groups[activ_groups['grp'] == 'A']['rev'].value_counts()"
   ]
  },
  {
   "cell_type": "code",
   "execution_count": 103,
   "id": "49d1105a",
   "metadata": {},
   "outputs": [
    {
     "data": {
      "text/plain": [
       "array([      nan, 1900.0001, 1900.    ,  690.    ,  290.    ,  990.    ,\n",
       "        199.    ,  398.    ,  580.    , 1140.    ,  870.    , 3660.    ,\n",
       "       1388.    , 1530.    ,  590.    ,  840.    , 2890.    ,  489.    ,\n",
       "       1980.    , 1729.    , 1160.    , 1050.    , 4650.    , 2099.    ,\n",
       "        796.    , 1339.    , 2190.    , 2910.    , 3040.    , 3260.    ,\n",
       "       2220.    , 1968.    ,  880.    ,  597.    ,  630.    , 1180.    ])"
      ]
     },
     "execution_count": 103,
     "metadata": {},
     "output_type": "execute_result"
    }
   ],
   "source": [
    "activ_groups[activ_groups['grp'] == 'B']['rev'].unique()"
   ]
  },
  {
   "cell_type": "code",
   "execution_count": 104,
   "id": "c12ffc0a",
   "metadata": {},
   "outputs": [
    {
     "data": {
      "text/plain": [
       "1900.0000    96\n",
       "290.0000     63\n",
       "690.0000     59\n",
       "199.0000     39\n",
       "1900.0001    36\n",
       "990.0000     35\n",
       "840.0000     24\n",
       "1140.0000    20\n",
       "580.0000      9\n",
       "398.0000      7\n",
       "590.0000      6\n",
       "870.0000      5\n",
       "1530.0000     5\n",
       "2099.0000     3\n",
       "2890.0000     3\n",
       "2910.0000     2\n",
       "1980.0000     2\n",
       "3660.0000     2\n",
       "1729.0000     1\n",
       "630.0000      1\n",
       "597.0000      1\n",
       "880.0000      1\n",
       "1968.0000     1\n",
       "2220.0000     1\n",
       "3260.0000     1\n",
       "3040.0000     1\n",
       "489.0000      1\n",
       "2190.0000     1\n",
       "1339.0000     1\n",
       "796.0000      1\n",
       "1388.0000     1\n",
       "4650.0000     1\n",
       "1050.0000     1\n",
       "1160.0000     1\n",
       "1180.0000     1\n",
       "Name: rev, dtype: int64"
      ]
     },
     "execution_count": 104,
     "metadata": {},
     "output_type": "execute_result"
    }
   ],
   "source": [
    "activ_groups[activ_groups['grp'] == 'B']['rev'].value_counts()"
   ]
  },
  {
   "cell_type": "markdown",
   "id": "91ec8770",
   "metadata": {},
   "source": [
    "Посмотрим на распределение переменной 'rev'. "
   ]
  },
  {
   "cell_type": "code",
   "execution_count": 190,
   "id": "76b769a6",
   "metadata": {},
   "outputs": [
    {
     "data": {
      "image/png": "[encoded data removed]",
      "text/plain": [
       "<Figure size 864x432 with 2 Axes>"
      ]
     },
     "metadata": {},
     "output_type": "display_data"
    }
   ],
   "source": [
    "plt.figure(figsize=(12, 6))\n",
    "\n",
    "plt.subplot (1, 2, 1)\n",
    "activ_groups[activ_groups['grp'] == 'A']['rev'].plot(kind='hist')\n",
    "\n",
    "plt.subplot (1, 2, 2)\n",
    "activ_groups[activ_groups['grp'] == 'B']['rev'].plot(kind='hist')\n",
    "\n",
    "plt.show()"
   ]
  },
  {
   "cell_type": "markdown",
   "id": "1bde91a3",
   "metadata": {},
   "source": [
    "Отсечем нулевые значения, которые мешают нам оценить распределение ненулевых"
   ]
  },
  {
   "cell_type": "code",
   "execution_count": 106,
   "id": "28f86143",
   "metadata": {},
   "outputs": [
    {
     "data": {
      "image/png": "[encoded data removed]",
      "text/plain": [
       "<Figure size 864x432 with 2 Axes>"
      ]
     },
     "metadata": {},
     "output_type": "display_data"
    }
   ],
   "source": [
    "plt.figure(figsize=(12, 6))\n",
    "\n",
    "plt.subplot (1, 2, 1)\n",
    "activ_groups[(activ_groups['grp'] == 'A') & (activ_groups['rev'] != 0)]['rev'].plot(kind='hist')\n",
    "\n",
    "plt.subplot (1, 2, 2)\n",
    "activ_groups[(activ_groups['grp'] == 'B') & (activ_groups['rev'] != 0)]['rev'].plot(kind='hist')\n",
    "\n",
    "plt.show()"
   ]
  },
  {
   "cell_type": "markdown",
   "id": "01be8ed2",
   "metadata": {},
   "source": [
    "Очевидно, что в тестовой группе гораздо больше возможных вариантов оплаты. Возникает вопрос о том, насколько релевантным было разбиение студентов на группы, в группе \"B\" существенно более высокая вариативность размера оплаты. Особенно выделяется частота покупок по цене 1900. Такой всплеск мог быть вызван, например, существенной скидкой на курс, либо какой-нибудь промоакцией вроде \"купи два по цене одного\". Если к нам попали пользователи с промоакцией, которых нет в контрольной группе, то это существенно повлияет на эксперимент, проводить который следует при полном равенстве остальных параметров за исключением целевого.\n",
    "\n",
    "Также мы видим, что студент с неопределенной группой, оплативший курс за 1900, вероятнее всего относится к группе \"В\". Предположим, наихудший для нас вариант - все студенты с неопределеной группой принадлежат тестовой группе. Такой вариант уменьшит значение конверсии, что отразится и на других метриках."
   ]
  },
  {
   "cell_type": "code",
   "execution_count": 139,
   "id": "10fd0428",
   "metadata": {},
   "outputs": [],
   "source": [
    "activ_groups['grp'] = activ_groups['grp'].fillna('B')"
   ]
  },
  {
   "cell_type": "code",
   "execution_count": 140,
   "id": "0fea96c8",
   "metadata": {},
   "outputs": [
    {
     "data": {
      "text/plain": [
       "True"
      ]
     },
     "execution_count": 140,
     "metadata": {},
     "output_type": "execute_result"
    }
   ],
   "source": [
    "activ_groups.shape[0] == activ_groups['student_id'].nunique()"
   ]
  },
  {
   "cell_type": "markdown",
   "id": "ffedd9fc",
   "metadata": {},
   "source": [
    "Количество уникальных значений student_id совпадает с длиной таблицы, а значит это это позволяет нам рассчитать ARPPU (средний доход на активного пользователя), просто использовав mean(), поскольку значения NaN учитываться в рассчете не будут.  Теоретически это будет и частный случай среднего чека, поскольку в наших данных у каждого пользователя по одной транзакции."
   ]
  },
  {
   "cell_type": "code",
   "execution_count": 141,
   "id": "86cc189b",
   "metadata": {},
   "outputs": [
    {
     "data": {
      "text/plain": [
       "58.8849104859335"
      ]
     },
     "metadata": {},
     "output_type": "display_data"
    },
    {
     "data": {
      "text/plain": [
       "69.4816638174993"
      ]
     },
     "metadata": {},
     "output_type": "display_data"
    }
   ],
   "source": [
    "display(activ_groups[activ_groups['grp'] == 'A']['rev'].mean(),\n",
    "        activ_groups[activ_groups['grp'] == 'B']['rev'].mean())"
   ]
  },
  {
   "cell_type": "markdown",
   "id": "d01960a2",
   "metadata": {},
   "source": [
    "ARPPU в тестовой группе заметно выше, чем в контрольной. Посмотрим, отличаются ли значения конверсии в группах. Для дальнейших рассчетов нам потребуется заполнить NaN нулями и создать дополнительное поле 'action', фиксирующими факт целевого действия пользователя: 0 - покупки не было, 1 - покупка была."
   ]
  },
  {
   "cell_type": "code",
   "execution_count": 142,
   "id": "89b92e7c",
   "metadata": {
    "scrolled": false
   },
   "outputs": [
    {
     "data": {
      "text/html": [
       "<div>\n",
       "<style scoped>\n",
       "    .dataframe tbody tr th:only-of-type {\n",
       "        vertical-align: middle;\n",
       "    }\n",
       "\n",
       "    .dataframe tbody tr th {\n",
       "        vertical-align: top;\n",
       "    }\n",
       "\n",
       "    .dataframe thead th {\n",
       "        text-align: right;\n",
       "    }\n",
       "</style>\n",
       "<table border=\"1\" class=\"dataframe\">\n",
       "  <thead>\n",
       "    <tr style=\"text-align: right;\">\n",
       "      <th></th>\n",
       "      <th>student_id</th>\n",
       "      <th>rev</th>\n",
       "      <th>grp</th>\n",
       "      <th>action</th>\n",
       "    </tr>\n",
       "  </thead>\n",
       "  <tbody>\n",
       "    <tr>\n",
       "      <th>0</th>\n",
       "      <td>581585</td>\n",
       "      <td>0.0</td>\n",
       "      <td>A</td>\n",
       "      <td>0</td>\n",
       "    </tr>\n",
       "    <tr>\n",
       "      <th>1</th>\n",
       "      <td>5723133</td>\n",
       "      <td>0.0</td>\n",
       "      <td>B</td>\n",
       "      <td>0</td>\n",
       "    </tr>\n",
       "    <tr>\n",
       "      <th>2</th>\n",
       "      <td>3276743</td>\n",
       "      <td>0.0</td>\n",
       "      <td>B</td>\n",
       "      <td>0</td>\n",
       "    </tr>\n",
       "    <tr>\n",
       "      <th>3</th>\n",
       "      <td>4238589</td>\n",
       "      <td>0.0</td>\n",
       "      <td>A</td>\n",
       "      <td>0</td>\n",
       "    </tr>\n",
       "    <tr>\n",
       "      <th>4</th>\n",
       "      <td>4475369</td>\n",
       "      <td>0.0</td>\n",
       "      <td>B</td>\n",
       "      <td>0</td>\n",
       "    </tr>\n",
       "  </tbody>\n",
       "</table>\n",
       "</div>"
      ],
      "text/plain": [
       "   student_id  rev grp  action\n",
       "0      581585  0.0   A       0\n",
       "1     5723133  0.0   B       0\n",
       "2     3276743  0.0   B       0\n",
       "3     4238589  0.0   A       0\n",
       "4     4475369  0.0   B       0"
      ]
     },
     "execution_count": 142,
     "metadata": {},
     "output_type": "execute_result"
    }
   ],
   "source": [
    "activ_groups['rev'] = activ_groups['rev'].fillna(0)\n",
    "activ_groups['action'] = activ_groups['rev'].apply(lambda x: 1 if x > 0 else 0)\n",
    "activ_groups.head()"
   ]
  },
  {
   "cell_type": "code",
   "execution_count": 143,
   "id": "20089c86",
   "metadata": {},
   "outputs": [
    {
     "data": {
      "text/plain": [
       "0.06841432225063938"
      ]
     },
     "metadata": {},
     "output_type": "display_data"
    },
    {
     "data": {
      "text/plain": [
       "0.0626624314178458"
      ]
     },
     "metadata": {},
     "output_type": "display_data"
    }
   ],
   "source": [
    "display(activ_groups[activ_groups['grp'] == 'A']['action'].mean(),\n",
    "        activ_groups[activ_groups['grp'] == 'B']['action'].mean())"
   ]
  },
  {
   "cell_type": "markdown",
   "id": "d207c0da",
   "metadata": {},
   "source": [
    "Конверсия в тестовой группе немного \"просела\" по сравнению с контрольной. Оценим ARPU, в данном случае это будет среднее значение переменной 'rev'."
   ]
  },
  {
   "cell_type": "code",
   "execution_count": 144,
   "id": "c8434bf3",
   "metadata": {
    "scrolled": true
   },
   "outputs": [
    {
     "data": {
      "text/plain": [
       "58.8849104859335"
      ]
     },
     "metadata": {},
     "output_type": "display_data"
    },
    {
     "data": {
      "text/plain": [
       "69.4816638174993"
      ]
     },
     "metadata": {},
     "output_type": "display_data"
    }
   ],
   "source": [
    "display(activ_groups[activ_groups['grp'] == 'A']['rev'].mean(),\n",
    "        activ_groups[activ_groups['grp'] == 'B']['rev'].mean())"
   ]
  },
  {
   "cell_type": "markdown",
   "id": "2833a0ab",
   "metadata": {},
   "source": [
    "ARPU в тестовой группе существенно вырос "
   ]
  },
  {
   "cell_type": "markdown",
   "id": "49c7eab6",
   "metadata": {},
   "source": [
    "Очевидно, что распределение признака ненормальное. Использование классических критериев оценки требует ряда определеных допущений, таких как одинаковая дисперсия, одинаковый размер выборки, либо одинаковая дисперсия, что может повлиять на мощность критерия. Использование непараметрического критерия Манна-Уитни в данном случае нецелесообразно, поскольку он сравнивает равенство распределений, а мы хотим оценить равенство средних значений. Кроме того, у нас огромное количество нулевых значений в обоих выборках, что негативно скажется на его мощности. В нашем случае наиболее подходящим вариантом для проверки гипотезы кажется использование бутстрэпа. "
   ]
  },
  {
   "cell_type": "code",
   "execution_count": 145,
   "id": "f82ae00c",
   "metadata": {},
   "outputs": [],
   "source": [
    "control_group = activ_groups[activ_groups['grp'] == 'A']['rev']\n",
    "test_group = activ_groups[activ_groups['grp'] == 'B']['rev']"
   ]
  },
  {
   "cell_type": "code",
   "execution_count": 146,
   "id": "c73d6474",
   "metadata": {},
   "outputs": [],
   "source": [
    "def get_bootstrap(\n",
    "    data_column_1, # числовые значения первой выборки\n",
    "    data_column_2, # числовые значения второй выборки\n",
    "    boot_it = 10000, # количество бутстрэп-подвыборок\n",
    "    statistic = np.mean, # интересующая нас статистика\n",
    "    bootstrap_conf_level = 0.95 # уровень значимости\n",
    "):\n",
    "    boot_len = max([len(data_column_1), len(data_column_2)])\n",
    "    boot_data = []\n",
    "    for i in tqdm(range(boot_it)): # извлекаем подвыборки\n",
    "        samples_1 = data_column_1.sample(\n",
    "            boot_len, \n",
    "            replace = True # параметр возвращения\n",
    "        ).values\n",
    "        \n",
    "        samples_2 = data_column_2.sample(\n",
    "            boot_len, \n",
    "            replace = True\n",
    "        ).values\n",
    "        \n",
    "        boot_data.append(statistic(samples_2)-statistic(samples_1)) # mean() - применяем статистику\n",
    "        \n",
    "    pd_boot_data = pd.DataFrame(boot_data)\n",
    "        \n",
    "    left_quant = (1 - bootstrap_conf_level)/2\n",
    "    right_quant = 1 - (1 - bootstrap_conf_level) / 2\n",
    "    quants = pd_boot_data.quantile([left_quant, right_quant])\n",
    "        \n",
    "    p_1 = norm.cdf(\n",
    "        x = 0, \n",
    "        loc = np.mean(boot_data), \n",
    "        scale = np.std(boot_data)\n",
    "    )\n",
    "    p_2 = norm.cdf(\n",
    "        x = 0, \n",
    "        loc = -np.mean(boot_data), \n",
    "        scale = np.std(boot_data)\n",
    "    )\n",
    "    p_value = min(p_1, p_2) * 2\n",
    "        \n",
    "    # Визуализация\n",
    "    _, _, bars = plt.hist(pd_boot_data[0], bins = 50)\n",
    "    for bar in bars:\n",
    "        if bar.get_x() <= quants.iloc[0][0] or bar.get_x() >= quants.iloc[1][0]:\n",
    "            bar.set_facecolor('red')\n",
    "        else: \n",
    "            bar.set_facecolor('grey')\n",
    "            bar.set_edgecolor('black')\n",
    "    \n",
    "    plt.style.use('ggplot')\n",
    "    plt.vlines(quants,ymin=0,ymax=50,linestyle='--')\n",
    "    plt.xlabel('boot_data')\n",
    "    plt.ylabel('frequency')\n",
    "    plt.title(\"Histogram of boot_data\")\n",
    "    plt.show()\n",
    "       \n",
    "    return {\"boot_data\": boot_data, \n",
    "            \"quants\": quants, \n",
    "            \"p_value\": p_value,\n",
    "           }"
   ]
  },
  {
   "cell_type": "code",
   "execution_count": 147,
   "id": "5e51f771",
   "metadata": {},
   "outputs": [
    {
     "data": {
      "application/vnd.jupyter.widget-view+json": {
       "model_id": "24b2a9d0e1c84b028c153cfba6647c1f",
       "version_major": 2,
       "version_minor": 0
      },
      "text/plain": [
       "  0%|          | 0/10000 [00:00<?, ?it/s]"
      ]
     },
     "metadata": {},
     "output_type": "display_data"
    },
    {
     "data": {
      "image/png": "[encoded data removed]",
      "text/plain": [
       "<Figure size 432x288 with 1 Axes>"
      ]
     },
     "metadata": {},
     "output_type": "display_data"
    }
   ],
   "source": [
    "booted_data = get_bootstrap(control_group, test_group)"
   ]
  },
  {
   "cell_type": "code",
   "execution_count": 148,
   "id": "70e4077a",
   "metadata": {},
   "outputs": [
    {
     "data": {
      "text/plain": [
       "0.04865349842230263"
      ]
     },
     "execution_count": 148,
     "metadata": {},
     "output_type": "execute_result"
    }
   ],
   "source": [
    "booted_data[\"p_value\"]"
   ]
  },
  {
   "cell_type": "code",
   "execution_count": 149,
   "id": "b5dd5761",
   "metadata": {},
   "outputs": [
    {
     "data": {
      "text/html": [
       "<div>\n",
       "<style scoped>\n",
       "    .dataframe tbody tr th:only-of-type {\n",
       "        vertical-align: middle;\n",
       "    }\n",
       "\n",
       "    .dataframe tbody tr th {\n",
       "        vertical-align: top;\n",
       "    }\n",
       "\n",
       "    .dataframe thead th {\n",
       "        text-align: right;\n",
       "    }\n",
       "</style>\n",
       "<table border=\"1\" class=\"dataframe\">\n",
       "  <thead>\n",
       "    <tr style=\"text-align: right;\">\n",
       "      <th></th>\n",
       "      <th>0</th>\n",
       "    </tr>\n",
       "  </thead>\n",
       "  <tbody>\n",
       "    <tr>\n",
       "      <th>0.025</th>\n",
       "      <td>0.023373</td>\n",
       "    </tr>\n",
       "    <tr>\n",
       "      <th>0.975</th>\n",
       "      <td>21.136945</td>\n",
       "    </tr>\n",
       "  </tbody>\n",
       "</table>\n",
       "</div>"
      ],
      "text/plain": [
       "               0\n",
       "0.025   0.023373\n",
       "0.975  21.136945"
      ]
     },
     "execution_count": 149,
     "metadata": {},
     "output_type": "execute_result"
    }
   ],
   "source": [
    "booted_data[\"quants\"]"
   ]
  },
  {
   "cell_type": "markdown",
   "id": "d90e0ad4",
   "metadata": {},
   "source": [
    "Результаты теста позволяют нам отвергнуть нулевую теорию о равенстве средних, поскольку доверительный интервал разницы средних не включает ноль. При этом P-уровень значимости ниже 0.05, тем не менее результат очень близок к пороговому значению\n",
    "\n",
    "При таких результатах мы можем рекомендовать раскатывать изменения на всех пользователей при условии, что тестовые группы действительно были разбиты корректно, и мы на вход действительно получили релевантные данные.\n",
    "\n",
    "Посмотрим изменят ли ситуацию добавление дополнительных данных. "
   ]
  },
  {
   "cell_type": "code",
   "execution_count": 150,
   "id": "a6cf86e1",
   "metadata": {},
   "outputs": [
    {
     "data": {
      "text/html": [
       "<div>\n",
       "<style scoped>\n",
       "    .dataframe tbody tr th:only-of-type {\n",
       "        vertical-align: middle;\n",
       "    }\n",
       "\n",
       "    .dataframe tbody tr th {\n",
       "        vertical-align: top;\n",
       "    }\n",
       "\n",
       "    .dataframe thead th {\n",
       "        text-align: right;\n",
       "    }\n",
       "</style>\n",
       "<table border=\"1\" class=\"dataframe\">\n",
       "  <thead>\n",
       "    <tr style=\"text-align: right;\">\n",
       "      <th></th>\n",
       "      <th>id</th>\n",
       "      <th>grp</th>\n",
       "    </tr>\n",
       "  </thead>\n",
       "  <tbody>\n",
       "    <tr>\n",
       "      <th>0</th>\n",
       "      <td>5694584</td>\n",
       "      <td>B</td>\n",
       "    </tr>\n",
       "    <tr>\n",
       "      <th>1</th>\n",
       "      <td>5694830</td>\n",
       "      <td>B</td>\n",
       "    </tr>\n",
       "    <tr>\n",
       "      <th>2</th>\n",
       "      <td>5695057</td>\n",
       "      <td>B</td>\n",
       "    </tr>\n",
       "    <tr>\n",
       "      <th>3</th>\n",
       "      <td>5698872</td>\n",
       "      <td>B</td>\n",
       "    </tr>\n",
       "    <tr>\n",
       "      <th>4</th>\n",
       "      <td>5699067</td>\n",
       "      <td>B</td>\n",
       "    </tr>\n",
       "  </tbody>\n",
       "</table>\n",
       "</div>"
      ],
      "text/plain": [
       "        id grp\n",
       "0  5694584   B\n",
       "1  5694830   B\n",
       "2  5695057   B\n",
       "3  5698872   B\n",
       "4  5699067   B"
      ]
     },
     "execution_count": 150,
     "metadata": {},
     "output_type": "execute_result"
    }
   ],
   "source": [
    "groups_add.head()"
   ]
  },
  {
   "cell_type": "code",
   "execution_count": 151,
   "id": "8f0fbfec",
   "metadata": {},
   "outputs": [
    {
     "data": {
      "text/plain": [
       "B    70\n",
       "A    22\n",
       "Name: grp, dtype: int64"
      ]
     },
     "execution_count": 151,
     "metadata": {},
     "output_type": "execute_result"
    }
   ],
   "source": [
    "groups_add.grp.value_counts()"
   ]
  },
  {
   "cell_type": "code",
   "execution_count": 152,
   "id": "635f54fb",
   "metadata": {},
   "outputs": [],
   "source": [
    "groups_add = groups_add.rename(columns={'id':'student_id'})"
   ]
  },
  {
   "cell_type": "code",
   "execution_count": 153,
   "id": "4fcac8da",
   "metadata": {},
   "outputs": [],
   "source": [
    "groups_total = pd.concat([groups, groups_add], ignore_index=True)"
   ]
  },
  {
   "cell_type": "markdown",
   "id": "713f2071",
   "metadata": {},
   "source": [
    "Проверим совпадает ли длина полученного датафрейма с длиной суммы двух исходных, а также проверим, уникальны ли значения id студентов"
   ]
  },
  {
   "cell_type": "code",
   "execution_count": 154,
   "id": "6f2a363d",
   "metadata": {},
   "outputs": [
    {
     "data": {
      "text/plain": [
       "True"
      ]
     },
     "execution_count": 154,
     "metadata": {},
     "output_type": "execute_result"
    }
   ],
   "source": [
    "groups_total.shape[0] == groups.shape[0] + groups_add.shape[0]"
   ]
  },
  {
   "cell_type": "code",
   "execution_count": 155,
   "id": "8dbab1c1",
   "metadata": {},
   "outputs": [
    {
     "data": {
      "text/plain": [
       "0"
      ]
     },
     "execution_count": 155,
     "metadata": {},
     "output_type": "execute_result"
    }
   ],
   "source": [
    "groups_total['student_id'].duplicated().sum()"
   ]
  },
  {
   "cell_type": "code",
   "execution_count": 156,
   "id": "019f9806",
   "metadata": {},
   "outputs": [
    {
     "data": {
      "text/html": [
       "<div>\n",
       "<style scoped>\n",
       "    .dataframe tbody tr th:only-of-type {\n",
       "        vertical-align: middle;\n",
       "    }\n",
       "\n",
       "    .dataframe tbody tr th {\n",
       "        vertical-align: top;\n",
       "    }\n",
       "\n",
       "    .dataframe thead th {\n",
       "        text-align: right;\n",
       "    }\n",
       "</style>\n",
       "<table border=\"1\" class=\"dataframe\">\n",
       "  <thead>\n",
       "    <tr style=\"text-align: right;\">\n",
       "      <th></th>\n",
       "      <th>student_id</th>\n",
       "      <th>rev</th>\n",
       "      <th>grp</th>\n",
       "    </tr>\n",
       "  </thead>\n",
       "  <tbody>\n",
       "    <tr>\n",
       "      <th>0</th>\n",
       "      <td>581585</td>\n",
       "      <td>NaN</td>\n",
       "      <td>A</td>\n",
       "    </tr>\n",
       "    <tr>\n",
       "      <th>1</th>\n",
       "      <td>5723133</td>\n",
       "      <td>NaN</td>\n",
       "      <td>A</td>\n",
       "    </tr>\n",
       "    <tr>\n",
       "      <th>2</th>\n",
       "      <td>3276743</td>\n",
       "      <td>NaN</td>\n",
       "      <td>B</td>\n",
       "    </tr>\n",
       "    <tr>\n",
       "      <th>3</th>\n",
       "      <td>4238589</td>\n",
       "      <td>NaN</td>\n",
       "      <td>A</td>\n",
       "    </tr>\n",
       "    <tr>\n",
       "      <th>4</th>\n",
       "      <td>4475369</td>\n",
       "      <td>NaN</td>\n",
       "      <td>B</td>\n",
       "    </tr>\n",
       "  </tbody>\n",
       "</table>\n",
       "</div>"
      ],
      "text/plain": [
       "   student_id  rev grp\n",
       "0      581585  NaN   A\n",
       "1     5723133  NaN   A\n",
       "2     3276743  NaN   B\n",
       "3     4238589  NaN   A\n",
       "4     4475369  NaN   B"
      ]
     },
     "execution_count": 156,
     "metadata": {},
     "output_type": "execute_result"
    }
   ],
   "source": [
    "activ_groups = activ_studs.merge(checks, how='outer', on='student_id')\n",
    "activ_groups = activ_groups.merge(groups_total, how='left', on='student_id')\n",
    "activ_groups.head()"
   ]
  },
  {
   "cell_type": "code",
   "execution_count": 157,
   "id": "f0d2fdb0",
   "metadata": {},
   "outputs": [
    {
     "data": {
      "text/plain": [
       "array(['A', 'B'], dtype=object)"
      ]
     },
     "execution_count": 157,
     "metadata": {},
     "output_type": "execute_result"
    }
   ],
   "source": [
    "activ_groups.grp.unique()"
   ]
  },
  {
   "cell_type": "markdown",
   "id": "1f23509c",
   "metadata": {},
   "source": [
    "Дополнительные даные внесли некоторые исправления в тестовые данне, теперь мы видим, что не осталось студентов с неопределенной группой. Глянем на конверсию."
   ]
  },
  {
   "cell_type": "code",
   "execution_count": 158,
   "id": "a735048b",
   "metadata": {},
   "outputs": [],
   "source": [
    "activ_groups['rev'] = activ_groups['rev'].fillna(0)\n",
    "activ_groups['action'] = activ_groups['rev'].apply(lambda x: 1 if x > 0 else 0)"
   ]
  },
  {
   "cell_type": "code",
   "execution_count": 159,
   "id": "eff6a3b3",
   "metadata": {},
   "outputs": [
    {
     "data": {
      "text/plain": [
       "0.06828334396936822"
      ]
     },
     "metadata": {},
     "output_type": "display_data"
    },
    {
     "data": {
      "text/plain": [
       "0.06268958543983821"
      ]
     },
     "metadata": {},
     "output_type": "display_data"
    }
   ],
   "source": [
    "display(activ_groups[activ_groups['grp'] == 'A']['action'].mean(),\n",
    "        activ_groups[activ_groups['grp'] == 'B']['action'].mean())"
   ]
  },
  {
   "cell_type": "markdown",
   "id": "4e310230",
   "metadata": {},
   "source": [
    "Показатели конверсии не сильно отличаются от рассчитанных ранее. Проведем тесты с обновленными данными."
   ]
  },
  {
   "cell_type": "code",
   "execution_count": 160,
   "id": "1ef73c0d",
   "metadata": {},
   "outputs": [],
   "source": [
    "control_group = activ_groups[activ_groups['grp'] == 'A']['rev']\n",
    "test_group = activ_groups[activ_groups['grp'] == 'B']['rev']"
   ]
  },
  {
   "cell_type": "code",
   "execution_count": 161,
   "id": "9874a9fc",
   "metadata": {},
   "outputs": [
    {
     "data": {
      "application/vnd.jupyter.widget-view+json": {
       "model_id": "b7187f280176435a8ee8e2b067a4a890",
       "version_major": 2,
       "version_minor": 0
      },
      "text/plain": [
       "  0%|          | 0/10000 [00:00<?, ?it/s]"
      ]
     },
     "metadata": {},
     "output_type": "display_data"
    },
    {
     "data": {
      "image/png": "[encoded data removed]",
      "text/plain": [
       "<Figure size 432x288 with 1 Axes>"
      ]
     },
     "metadata": {},
     "output_type": "display_data"
    }
   ],
   "source": [
    "booted_data = get_bootstrap(control_group, test_group)"
   ]
  },
  {
   "cell_type": "code",
   "execution_count": 162,
   "id": "16f6596f",
   "metadata": {},
   "outputs": [
    {
     "data": {
      "text/plain": [
       "0.04573206219356632"
      ]
     },
     "execution_count": 162,
     "metadata": {},
     "output_type": "execute_result"
    }
   ],
   "source": [
    "booted_data[\"p_value\"]"
   ]
  },
  {
   "cell_type": "code",
   "execution_count": 163,
   "id": "5f943521",
   "metadata": {},
   "outputs": [
    {
     "data": {
      "text/html": [
       "<div>\n",
       "<style scoped>\n",
       "    .dataframe tbody tr th:only-of-type {\n",
       "        vertical-align: middle;\n",
       "    }\n",
       "\n",
       "    .dataframe tbody tr th {\n",
       "        vertical-align: top;\n",
       "    }\n",
       "\n",
       "    .dataframe thead th {\n",
       "        text-align: right;\n",
       "    }\n",
       "</style>\n",
       "<table border=\"1\" class=\"dataframe\">\n",
       "  <thead>\n",
       "    <tr style=\"text-align: right;\">\n",
       "      <th></th>\n",
       "      <th>0</th>\n",
       "    </tr>\n",
       "  </thead>\n",
       "  <tbody>\n",
       "    <tr>\n",
       "      <th>0.025</th>\n",
       "      <td>0.125835</td>\n",
       "    </tr>\n",
       "    <tr>\n",
       "      <th>0.975</th>\n",
       "      <td>21.422744</td>\n",
       "    </tr>\n",
       "  </tbody>\n",
       "</table>\n",
       "</div>"
      ],
      "text/plain": [
       "               0\n",
       "0.025   0.125835\n",
       "0.975  21.422744"
      ]
     },
     "execution_count": 163,
     "metadata": {},
     "output_type": "execute_result"
    }
   ],
   "source": [
    "booted_data[\"quants\"]"
   ]
  },
  {
   "cell_type": "markdown",
   "id": "a218e067",
   "metadata": {},
   "source": [
    "Результаты теста существенно не изменились. Ноль по-прежнему не входит в доверительный интервал разницы средних двух выборок, а P-value ниже альфа-значения в 0.05, но все так же близок к пороговому значению. При более строгом значении альфа мы бы не смогли отвергнуть нулевую гипотезу.\n",
    "\n",
    "__Резюме__: предложить раскатывать эксперимент на всех пользователей можно в том случае, если мы получили корректные данные в тестовой и контрольной группах. Этот момент следует уточнить у спеуциалиста, проводившего выборку данных. Отдельно стоит уточнить относительно платежей по 1600, которые выбиваются из  общей массы."
   ]
  },
  {
   "cell_type": "markdown",
   "id": "4a263430",
   "metadata": {},
   "source": [
    "### SQL section"
   ]
  },
  {
   "cell_type": "code",
   "execution_count": 60,
   "id": "aab245f3",
   "metadata": {},
   "outputs": [],
   "source": [
    "connection_default = {'host': 'http://clickhouse.beslan.pro:8080',\n",
    "                      'database':'default',\n",
    "                      'user':'student', \n",
    "                      'password':'dpo_python_2020'\n",
    "                     }"
   ]
  },
  {
   "cell_type": "markdown",
   "id": "b385df75",
   "metadata": {},
   "source": [
    "__2.1 Очень усердные ученики__\n",
    "\n",
    "Дана таблица default.peas, содержащая данные о решении студентами заданий.\n",
    "Образовательные курсы состоят из различных уроков, каждый из которых состоит из нескольких маленьких заданий. Каждое такое маленькое задание называется \"горошиной\". Назовём очень усердным учеником того пользователя, который хотя бы раз за текущий месяц правильно решил 20 горошин.\n",
    "Необходимо написать оптимальный запрос, который даст информацию о количестве очень усердных студентов."
   ]
  },
  {
   "cell_type": "code",
   "execution_count": 61,
   "id": "01f26e45",
   "metadata": {},
   "outputs": [],
   "source": [
    "sql = ''' \n",
    "        SELECT uniq(t.st_id) AS quantity_\n",
    "        FROM (\n",
    "                SELECT \n",
    "                    st_id,\n",
    "                    toStartOfMonth(timest) AS month_,\n",
    "                    countIf(correct = 1) AS sum_result\n",
    "                FROM default.peas\n",
    "                WHERE toStartOfMonth(timest) = MAX(toStartOfMonth(timest))\n",
    "                GROUP BY \n",
    "                    st_id,\n",
    "                    month_\n",
    "                HAVING sum_result >= 20\n",
    "            ) as t\n",
    "'''"
   ]
  },
  {
   "cell_type": "code",
   "execution_count": 62,
   "id": "3c144615",
   "metadata": {},
   "outputs": [
    {
     "name": "stdout",
     "output_type": "stream",
     "text": [
      "Количество очень усердных учеников составляет 136\n"
     ]
    }
   ],
   "source": [
    "select = ph.read_clickhouse(query=sql, connection=connection_default)\n",
    "print('Количество очень усердных учеников составляет', select.loc[0, 'quantity_'])"
   ]
  },
  {
   "cell_type": "markdown",
   "id": "5a5ff750",
   "metadata": {},
   "source": [
    "__2.2. Оптимизация воронки__\n",
    "\n",
    "Образовательная платформа предлагает пройти студентам курсы по модели trial: студент может решить бесплатно лишь 30 горошин в день. Для неограниченного количества заданий в определенной дисциплине студенту необходимо приобрести полный доступ. Команда провела эксперимент, где был протестирован новый экран оплаты.\n",
    "Необходимо в одном запросе выгрузить следующую информацию о группах пользователей:\n",
    "\n",
    "ARPU \n",
    "ARPAU \n",
    "CR в покупку \n",
    "СR активного пользователя в покупку \n",
    "CR пользователя из активности по математике (subject = ’math’) в покупку курса по математике\n",
    "ARPU считается относительно всех пользователей, попавших в группы.\n",
    "\n",
    "Активным считается пользователь, за все время решивший больше 10 задач правильно в любых дисциплинах.\n",
    "\n",
    "Активным по математике считается пользователь, за все время решивший 2 или больше задач правильно по математике."
   ]
  },
  {
   "cell_type": "code",
   "execution_count": 66,
   "id": "85bdc910",
   "metadata": {},
   "outputs": [],
   "source": [
    "sql2 = '''\n",
    "      SELECT\n",
    "     test_grp as group,\n",
    "     sum(money) / uniq(st_id) as arpu,\n",
    "     sumIf(money, activ_stud > 10) / uniqIf(st_id, activ_stud > 10) as arpau,\n",
    "     uniqIf(st_id, money > 0) / uniq(st_id) as cr,\n",
    "     uniqIf(st_id, money > 0 AND activ_stud > 10) / uniqIf(st_id, activ_stud > 10) as cr_activ,\n",
    "     uniqIf(st_id, subject = 'Math' AND math_stud >= 2) / uniqIf(st_id, math_stud >= 2) as cr_math_activ\n",
    "FROM (     \n",
    "SELECT\n",
    "    t1.st_id as st_id,\n",
    "    t1.test_grp as test_grp,\n",
    "    t2.sale_time as sale_time,\n",
    "    t2.money as money,\n",
    "    t2.subject as subject,\n",
    "    t3.activ_ as activ_stud,\n",
    "    t3.math_ as math_stud\n",
    "FROM  default.studs t1\n",
    "LEFT JOIN default.final_project_check t2\n",
    "        ON t1.st_id = t2.st_id\n",
    "LEFT JOIN (\n",
    "            SELECT \n",
    "                st_id,\n",
    "                count(subject) as activ_,\n",
    "                countIf(subject = 'Math') as math_\n",
    "            FROM default.peas\n",
    "            WHERE correct = 1\n",
    "            GROUP BY st_id\n",
    "            ) t3\n",
    "    ON t1.st_id = t3.st_id     \n",
    "    )    \n",
    "GROUP BY test_grp\n",
    "         '''"
   ]
  },
  {
   "cell_type": "code",
   "execution_count": 67,
   "id": "dae519ed",
   "metadata": {},
   "outputs": [],
   "source": [
    "select = ph.read_clickhouse(query=sql2, connection=connection_default)"
   ]
  },
  {
   "cell_type": "code",
   "execution_count": 68,
   "id": "9101d47e",
   "metadata": {},
   "outputs": [
    {
     "data": {
      "text/html": [
       "<div>\n",
       "<style scoped>\n",
       "    .dataframe tbody tr th:only-of-type {\n",
       "        vertical-align: middle;\n",
       "    }\n",
       "\n",
       "    .dataframe tbody tr th {\n",
       "        vertical-align: top;\n",
       "    }\n",
       "\n",
       "    .dataframe thead th {\n",
       "        text-align: right;\n",
       "    }\n",
       "</style>\n",
       "<table border=\"1\" class=\"dataframe\">\n",
       "  <thead>\n",
       "    <tr style=\"text-align: right;\">\n",
       "      <th></th>\n",
       "      <th>group</th>\n",
       "      <th>arpu</th>\n",
       "      <th>arpau</th>\n",
       "      <th>cr</th>\n",
       "      <th>cr_activ</th>\n",
       "      <th>cr_math_activ</th>\n",
       "    </tr>\n",
       "  </thead>\n",
       "  <tbody>\n",
       "    <tr>\n",
       "      <th>0</th>\n",
       "      <td>control</td>\n",
       "      <td>4540.983607</td>\n",
       "      <td>10393.700787</td>\n",
       "      <td>0.049180</td>\n",
       "      <td>0.110236</td>\n",
       "      <td>0.061224</td>\n",
       "    </tr>\n",
       "    <tr>\n",
       "      <th>1</th>\n",
       "      <td>pilot</td>\n",
       "      <td>11508.474576</td>\n",
       "      <td>29739.583333</td>\n",
       "      <td>0.108475</td>\n",
       "      <td>0.260417</td>\n",
       "      <td>0.095238</td>\n",
       "    </tr>\n",
       "  </tbody>\n",
       "</table>\n",
       "</div>"
      ],
      "text/plain": [
       "     group          arpu         arpau        cr  cr_activ  cr_math_activ\n",
       "0  control   4540.983607  10393.700787  0.049180  0.110236       0.061224\n",
       "1    pilot  11508.474576  29739.583333  0.108475  0.260417       0.095238"
      ]
     },
     "execution_count": 68,
     "metadata": {},
     "output_type": "execute_result"
    }
   ],
   "source": [
    "select"
   ]
  },
  {
   "cell_type": "markdown",
   "id": "560b16f0",
   "metadata": {},
   "source": [
    "### Задание 3. Python\n",
    "\n",
    "Реализуйте функцию, которая будет автоматически подгружать информацию из дополнительного файла groups_add.csv (заголовки могут отличаться) и на основании дополнительных параметров пересчитывать метрики.\n",
    "Реализуйте функцию, которая будет строить графики по получаемым метрикам."
   ]
  },
  {
   "cell_type": "code",
   "execution_count": 178,
   "id": "dcc8e186",
   "metadata": {},
   "outputs": [],
   "source": [
    "def metrics(groups_add):\n",
    "    \"Function calculates CR, ARPU, ARPPU for control and test groups\"\n",
    "    groups_add = groups_add.rename(columns={'id':'student_id'})\n",
    "    groups_total = pd.concat([groups, groups_add], ignore_index=True)\n",
    "    activ_groups = activ_studs.merge(checks, how='outer', on='student_id')\n",
    "    activ_groups = activ_groups.merge(groups_total, how='left', on='student_id')\n",
    "    arppu_control = activ_groups[activ_groups['grp'] == 'A']['rev'].mean()\n",
    "    arppu_test = activ_groups[activ_groups['grp'] == 'B']['rev'].mean()\n",
    "    activ_groups['rev'] = activ_groups['rev'].fillna(0)\n",
    "    activ_groups['action'] = activ_groups['rev'].apply(lambda x: 1 if x > 0 else 0)\n",
    "    cr_control = activ_groups[activ_groups['grp'] == 'A']['action'].mean()\n",
    "    cr_test = activ_groups[activ_groups['grp'] == 'B']['action'].mean()\n",
    "    arpu_control = activ_groups[activ_groups['grp'] == 'A']['rev'].mean()\n",
    "    arpu_test = activ_groups[activ_groups['grp'] == 'B']['rev'].mean()\n",
    "    \n",
    "    return(print(f'''\n",
    "ARPPU контрольной группы: {round(arppu_control, 4)}\n",
    "ARPPU чек тестовой группы: {round(arppu_test, 4)}\n",
    "Конверсия в контрольной группе: {round(cr_control, 4)}\n",
    "Конверсия в тестовой группе: {round(cr_test, 4)} \n",
    "ARPU в контрольной группе: {round(arpu_control, 4)}\n",
    "ARPU в тестовой группе: {round(arpu_test, 4)}'''\n",
    "                )) \n"
   ]
  },
  {
   "cell_type": "code",
   "execution_count": 179,
   "id": "27fbf905",
   "metadata": {},
   "outputs": [
    {
     "name": "stdout",
     "output_type": "stream",
     "text": [
      "\n",
      "ARPPU контрольной группы: 860.7103\n",
      "ARPPU чек тестовой группы: 1108.8249\n",
      "Конверсия в контрольной группе: 0.0683\n",
      "Конверсия в тестовой группе: 0.0627 \n",
      "ARPU в контрольной группе: 58.7722\n",
      "ARPU в тестовой группе: 69.5118\n"
     ]
    }
   ],
   "source": [
    "metrics(groups_add)"
   ]
  },
  {
   "cell_type": "code",
   "execution_count": 187,
   "id": "5abde068",
   "metadata": {},
   "outputs": [],
   "source": [
    "def metrics_viz(groups_add):\n",
    "    \"The function plots CR, ARPU, ARPPU for control and test groups\"\n",
    "    groups_add = groups_add.rename(columns={'id':'student_id'})\n",
    "    groups_total = pd.concat([groups, groups_add], ignore_index=True)\n",
    "    activ_groups = activ_studs.merge(groups_total, how='left', on='student_id')\n",
    "    activ_groups = activ_groups.merge(checks, how='left', on='student_id')\n",
    "    arppu_control = activ_groups[activ_groups['grp'] == 'A']['rev'].mean()\n",
    "    arppu_test = activ_groups[activ_groups['grp'] == 'B']['rev'].mean()\n",
    "    activ_groups['rev'] = activ_groups['rev'].fillna(0)\n",
    "    activ_groups['action'] = activ_groups['rev'].apply(lambda x: 1 if x > 0 else 0)\n",
    "    \n",
    "    plt.figure(figsize=(18, 4))\n",
    "    plt.subplot(1, 3, 1)\n",
    "    sns.pointplot(data = activ_groups, y='action', x='grp', label='')\n",
    "    plt.title(\"CR\")\n",
    "    plt.xlabel(None)\n",
    "    plt.ylabel(None)\n",
    "\n",
    "    plt.subplot (1, 3, 3)\n",
    "    sns.pointplot(data = activ_groups[activ_groups['rev'] != 0], y='rev', x='grp')\n",
    "    plt.title(\"ARPPU\")\n",
    "    plt.xlabel(None)\n",
    "    plt.ylabel(None)\n",
    "\n",
    "    plt.subplot (1, 3, 2)\n",
    "    sns.pointplot(data = activ_groups, y='rev', x='grp')\n",
    "    plt.title(\"ARPU\")\n",
    "    plt.xlabel(None)\n",
    "    plt.ylabel(None)\n",
    "    plt.show()\n",
    "\n",
    "    return(print('Графики метрик'))\n",
    "            "
   ]
  },
  {
   "cell_type": "code",
   "execution_count": 188,
   "id": "46e877e6",
   "metadata": {},
   "outputs": [
    {
     "data": {
      "image/png": "[encoded data removed]",
      "text/plain": [
       "<Figure size 1296x288 with 3 Axes>"
      ]
     },
     "metadata": {},
     "output_type": "display_data"
    },
    {
     "name": "stdout",
     "output_type": "stream",
     "text": [
      "Графики метрик\n"
     ]
    }
   ],
   "source": [
    "metrics_viz(groups_add)"
   ]
  }
 ],
 "metadata": {
  "kernelspec": {
   "display_name": "Python 3 (ipykernel)",
   "language": "python",
   "name": "python3"
  },
  "language_info": {
   "codemirror_mode": {
    "name": "ipython",
    "version": 3
   },
   "file_extension": ".py",
   "mimetype": "text/x-python",
   "name": "python",
   "nbconvert_exporter": "python",
   "pygments_lexer": "ipython3",
   "version": "3.9.12"
  }
 },
 "nbformat": 4,
 "nbformat_minor": 5
}
