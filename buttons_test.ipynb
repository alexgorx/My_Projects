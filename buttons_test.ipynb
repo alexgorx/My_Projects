{
 "cells": [
  {
   "cell_type": "markdown",
   "id": "a81652d9",
   "metadata": {},
   "source": [
    "На этот раз ситуация следующая: вы работаете в приложении по доставке готовых продуктов. К вам пришел коллега с результатами двух тестов:  \n",
    "\n",
    "В первом тестировали разрешение фотографий блюд в приложении: пользователям показывались либо прямоугольные, либо новые квадратные  \n",
    "\n",
    "Во втором: была обновлена кнопка заказа, и часть юзеров видела старый вариант, а часть – новый. \n",
    "Коллега пришел к вам с просьбой: он посмотрел на графики и предположил, что среди групп могут встретиться различия. Ваша задача – помочь ему проверить гипотезы, сделать соответствующие выводы на основе статистических тестов и принять решения.  "
   ]
  },
  {
   "cell_type": "code",
   "execution_count": 12,
   "id": "0cb031c6",
   "metadata": {},
   "outputs": [],
   "source": [
    "import pandas as pd\n",
    "from scipy import stats \n",
    "import pingouin as pg\n",
    "\n",
    "import matplotlib.pyplot as plt\n",
    "import seaborn as sns\n",
    "%matplotlib inline\n",
    "\n",
    "from statsmodels.formula.api import ols\n",
    "from statsmodels.stats.anova import anova_lm\n"
   ]
  },
  {
   "cell_type": "code",
   "execution_count": 13,
   "id": "d901ef98",
   "metadata": {},
   "outputs": [],
   "source": [
    "picture_size = pd.read_csv('/home/vitsli/DataAnalitycs/statistic_lessons/5_task_1.csv')"
   ]
  },
  {
   "cell_type": "code",
   "execution_count": 20,
   "id": "c8f4cc97",
   "metadata": {},
   "outputs": [
    {
     "data": {
      "text/html": [
       "<div>\n",
       "<style scoped>\n",
       "    .dataframe tbody tr th:only-of-type {\n",
       "        vertical-align: middle;\n",
       "    }\n",
       "\n",
       "    .dataframe tbody tr th {\n",
       "        vertical-align: top;\n",
       "    }\n",
       "\n",
       "    .dataframe thead th {\n",
       "        text-align: right;\n",
       "    }\n",
       "</style>\n",
       "<table border=\"1\" class=\"dataframe\">\n",
       "  <thead>\n",
       "    <tr style=\"text-align: right;\">\n",
       "      <th></th>\n",
       "      <th>id</th>\n",
       "      <th>group</th>\n",
       "      <th>events</th>\n",
       "    </tr>\n",
       "  </thead>\n",
       "  <tbody>\n",
       "    <tr>\n",
       "      <th>0</th>\n",
       "      <td>16046</td>\n",
       "      <td>A</td>\n",
       "      <td>14</td>\n",
       "    </tr>\n",
       "    <tr>\n",
       "      <th>1</th>\n",
       "      <td>18712</td>\n",
       "      <td>A</td>\n",
       "      <td>41</td>\n",
       "    </tr>\n",
       "    <tr>\n",
       "      <th>2</th>\n",
       "      <td>3268</td>\n",
       "      <td>A</td>\n",
       "      <td>30</td>\n",
       "    </tr>\n",
       "    <tr>\n",
       "      <th>3</th>\n",
       "      <td>22633</td>\n",
       "      <td>A</td>\n",
       "      <td>37</td>\n",
       "    </tr>\n",
       "    <tr>\n",
       "      <th>4</th>\n",
       "      <td>28071</td>\n",
       "      <td>A</td>\n",
       "      <td>38</td>\n",
       "    </tr>\n",
       "  </tbody>\n",
       "</table>\n",
       "</div>"
      ],
      "text/plain": [
       "      id group  events\n",
       "0  16046     A      14\n",
       "1  18712     A      41\n",
       "2   3268     A      30\n",
       "3  22633     A      37\n",
       "4  28071     A      38"
      ]
     },
     "execution_count": 20,
     "metadata": {},
     "output_type": "execute_result"
    }
   ],
   "source": [
    "picture_size.head()"
   ]
  },
  {
   "cell_type": "code",
   "execution_count": 9,
   "id": "d588aec9",
   "metadata": {},
   "outputs": [],
   "source": [
    "a = picture_size[picture_size.group == 'A'].events\n",
    "b = picture_size[picture_size.group == 'B'].events\n",
    "c = picture_size[picture_size.group == 'C'].events"
   ]
  },
  {
   "cell_type": "code",
   "execution_count": 10,
   "id": "c9e12171",
   "metadata": {},
   "outputs": [
    {
     "data": {
      "text/plain": [
       "0    14\n",
       "1    41\n",
       "2    30\n",
       "3    37\n",
       "4    38\n",
       "5    34\n",
       "6    24\n",
       "7    20\n",
       "8    35\n",
       "9    28\n",
       "Name: events, dtype: int64"
      ]
     },
     "execution_count": 10,
     "metadata": {},
     "output_type": "execute_result"
    }
   ],
   "source": [
    "a.head(10)"
   ]
  },
  {
   "cell_type": "markdown",
   "id": "aadada9f",
   "metadata": {},
   "source": [
    "Для оценки результатов теста однофакторный дисперсионный анализ. Предварительно оценим гомогенность дисперсий в группах, а также оценим нормальность распределений в группах."
   ]
  },
  {
   "cell_type": "code",
   "execution_count": 23,
   "id": "7ef3113a",
   "metadata": {},
   "outputs": [
    {
     "data": {
      "text/plain": [
       "LeveneResult(statistic=2.2622596339318037, pvalue=0.1041327199523974)"
      ]
     },
     "execution_count": 23,
     "metadata": {},
     "output_type": "execute_result"
    }
   ],
   "source": [
    "# проверяем по методу Левина гомогенность (одинаковость) дисперсии в группах \n",
    "stats.levene(a, b, c)"
   ]
  },
  {
   "cell_type": "code",
   "execution_count": 24,
   "id": "971c42d8",
   "metadata": {},
   "outputs": [
    {
     "data": {
      "text/plain": [
       "NormaltestResult(statistic=2.1034599402238734, pvalue=0.3493328906085719)"
      ]
     },
     "execution_count": 24,
     "metadata": {},
     "output_type": "execute_result"
    }
   ],
   "source": [
    "stats.normaltest(a)"
   ]
  },
  {
   "cell_type": "code",
   "execution_count": 25,
   "id": "69c2d957",
   "metadata": {},
   "outputs": [
    {
     "data": {
      "text/plain": [
       "NormaltestResult(statistic=0.8410715800223014, pvalue=0.6566948749848232)"
      ]
     },
     "execution_count": 25,
     "metadata": {},
     "output_type": "execute_result"
    }
   ],
   "source": [
    "stats.normaltest(b)"
   ]
  },
  {
   "cell_type": "code",
   "execution_count": 26,
   "id": "16dde479",
   "metadata": {},
   "outputs": [
    {
     "data": {
      "text/plain": [
       "NormaltestResult(statistic=3.243725809054571, pvalue=0.19753037588314626)"
      ]
     },
     "execution_count": 26,
     "metadata": {},
     "output_type": "execute_result"
    }
   ],
   "source": [
    "stats.normaltest(c)"
   ]
  },
  {
   "cell_type": "code",
   "execution_count": 12,
   "id": "a9ab4370",
   "metadata": {},
   "outputs": [
    {
     "data": {
      "text/plain": [
       "F_onewayResult(statistic=2886.166657438961, pvalue=0.0)"
      ]
     },
     "execution_count": 12,
     "metadata": {},
     "output_type": "execute_result"
    }
   ],
   "source": [
    "stats.f_oneway(a, b, c)"
   ]
  },
  {
   "cell_type": "markdown",
   "id": "285db157",
   "metadata": {},
   "source": [
    "Тест показал наличие статзначимых различий между группами. Для проверки того, между какими именно группами есть различия применим критерий Тьюки."
   ]
  },
  {
   "cell_type": "code",
   "execution_count": 28,
   "id": "500e5bf0",
   "metadata": {},
   "outputs": [
    {
     "data": {
      "text/html": [
       "<div>\n",
       "<style scoped>\n",
       "    .dataframe tbody tr th:only-of-type {\n",
       "        vertical-align: middle;\n",
       "    }\n",
       "\n",
       "    .dataframe tbody tr th {\n",
       "        vertical-align: top;\n",
       "    }\n",
       "\n",
       "    .dataframe thead th {\n",
       "        text-align: right;\n",
       "    }\n",
       "</style>\n",
       "<table border=\"1\" class=\"dataframe\">\n",
       "  <thead>\n",
       "    <tr style=\"text-align: right;\">\n",
       "      <th></th>\n",
       "      <th>A</th>\n",
       "      <th>B</th>\n",
       "      <th>mean(A)</th>\n",
       "      <th>mean(B)</th>\n",
       "      <th>diff</th>\n",
       "      <th>se</th>\n",
       "      <th>T</th>\n",
       "      <th>p-tukey</th>\n",
       "      <th>hedges</th>\n",
       "    </tr>\n",
       "  </thead>\n",
       "  <tbody>\n",
       "    <tr>\n",
       "      <th>0</th>\n",
       "      <td>A</td>\n",
       "      <td>B</td>\n",
       "      <td>29.5796</td>\n",
       "      <td>37.6136</td>\n",
       "      <td>-8.0340</td>\n",
       "      <td>0.140894</td>\n",
       "      <td>-57.021604</td>\n",
       "      <td>0.0</td>\n",
       "      <td>-0.806377</td>\n",
       "    </tr>\n",
       "    <tr>\n",
       "      <th>1</th>\n",
       "      <td>A</td>\n",
       "      <td>C</td>\n",
       "      <td>29.5796</td>\n",
       "      <td>27.4703</td>\n",
       "      <td>2.1093</td>\n",
       "      <td>0.140894</td>\n",
       "      <td>14.970833</td>\n",
       "      <td>0.0</td>\n",
       "      <td>0.211712</td>\n",
       "    </tr>\n",
       "    <tr>\n",
       "      <th>2</th>\n",
       "      <td>B</td>\n",
       "      <td>C</td>\n",
       "      <td>37.6136</td>\n",
       "      <td>27.4703</td>\n",
       "      <td>10.1433</td>\n",
       "      <td>0.140894</td>\n",
       "      <td>71.992436</td>\n",
       "      <td>0.0</td>\n",
       "      <td>1.018089</td>\n",
       "    </tr>\n",
       "  </tbody>\n",
       "</table>\n",
       "</div>"
      ],
      "text/plain": [
       "   A  B  mean(A)  mean(B)     diff        se          T  p-tukey    hedges\n",
       "0  A  B  29.5796  37.6136  -8.0340  0.140894 -57.021604      0.0 -0.806377\n",
       "1  A  C  29.5796  27.4703   2.1093  0.140894  14.970833      0.0  0.211712\n",
       "2  B  C  37.6136  27.4703  10.1433  0.140894  71.992436      0.0  1.018089"
      ]
     },
     "execution_count": 28,
     "metadata": {},
     "output_type": "execute_result"
    }
   ],
   "source": [
    "pg.pairwise_tukey(data=picture_size, dv=\"events\", between=\"group\")"
   ]
  },
  {
   "cell_type": "markdown",
   "id": "5532fa31",
   "metadata": {},
   "source": [
    "Разница имеется между всеми группами, однако наилучший результат продемонстрировали квадратные картинки, которые можно рекомендовать использовать для всех пользователей"
   ]
  },
  {
   "cell_type": "markdown",
   "id": "a2375f29",
   "metadata": {},
   "source": [
    "__Тестирование обновления кнопки заказа__"
   ]
  },
  {
   "cell_type": "code",
   "execution_count": 29,
   "id": "e8a94bf1",
   "metadata": {},
   "outputs": [],
   "source": [
    "button_test = pd.read_csv('/home/vitsli/DataAnalitycs/statistic_lessons/5_task_2.csv')"
   ]
  },
  {
   "cell_type": "code",
   "execution_count": 31,
   "id": "ce94ca3d",
   "metadata": {},
   "outputs": [
    {
     "data": {
      "text/html": [
       "<div>\n",
       "<style scoped>\n",
       "    .dataframe tbody tr th:only-of-type {\n",
       "        vertical-align: middle;\n",
       "    }\n",
       "\n",
       "    .dataframe tbody tr th {\n",
       "        vertical-align: top;\n",
       "    }\n",
       "\n",
       "    .dataframe thead th {\n",
       "        text-align: right;\n",
       "    }\n",
       "</style>\n",
       "<table border=\"1\" class=\"dataframe\">\n",
       "  <thead>\n",
       "    <tr style=\"text-align: right;\">\n",
       "      <th></th>\n",
       "      <th>id</th>\n",
       "      <th>group</th>\n",
       "      <th>segment</th>\n",
       "      <th>events</th>\n",
       "    </tr>\n",
       "  </thead>\n",
       "  <tbody>\n",
       "    <tr>\n",
       "      <th>0</th>\n",
       "      <td>83440</td>\n",
       "      <td>test</td>\n",
       "      <td>high</td>\n",
       "      <td>78.0</td>\n",
       "    </tr>\n",
       "    <tr>\n",
       "      <th>1</th>\n",
       "      <td>96723</td>\n",
       "      <td>test</td>\n",
       "      <td>high</td>\n",
       "      <td>71.0</td>\n",
       "    </tr>\n",
       "    <tr>\n",
       "      <th>2</th>\n",
       "      <td>68719</td>\n",
       "      <td>test</td>\n",
       "      <td>high</td>\n",
       "      <td>80.0</td>\n",
       "    </tr>\n",
       "    <tr>\n",
       "      <th>3</th>\n",
       "      <td>50399</td>\n",
       "      <td>test</td>\n",
       "      <td>high</td>\n",
       "      <td>80.0</td>\n",
       "    </tr>\n",
       "    <tr>\n",
       "      <th>4</th>\n",
       "      <td>95613</td>\n",
       "      <td>test</td>\n",
       "      <td>high</td>\n",
       "      <td>78.0</td>\n",
       "    </tr>\n",
       "    <tr>\n",
       "      <th>5</th>\n",
       "      <td>49481</td>\n",
       "      <td>test</td>\n",
       "      <td>high</td>\n",
       "      <td>81.0</td>\n",
       "    </tr>\n",
       "    <tr>\n",
       "      <th>6</th>\n",
       "      <td>95408</td>\n",
       "      <td>test</td>\n",
       "      <td>high</td>\n",
       "      <td>57.0</td>\n",
       "    </tr>\n",
       "    <tr>\n",
       "      <th>7</th>\n",
       "      <td>7582</td>\n",
       "      <td>test</td>\n",
       "      <td>high</td>\n",
       "      <td>67.0</td>\n",
       "    </tr>\n",
       "    <tr>\n",
       "      <th>8</th>\n",
       "      <td>32404</td>\n",
       "      <td>test</td>\n",
       "      <td>high</td>\n",
       "      <td>73.0</td>\n",
       "    </tr>\n",
       "    <tr>\n",
       "      <th>9</th>\n",
       "      <td>12624</td>\n",
       "      <td>test</td>\n",
       "      <td>high</td>\n",
       "      <td>76.0</td>\n",
       "    </tr>\n",
       "  </tbody>\n",
       "</table>\n",
       "</div>"
      ],
      "text/plain": [
       "      id group segment  events\n",
       "0  83440  test    high    78.0\n",
       "1  96723  test    high    71.0\n",
       "2  68719  test    high    80.0\n",
       "3  50399  test    high    80.0\n",
       "4  95613  test    high    78.0\n",
       "5  49481  test    high    81.0\n",
       "6  95408  test    high    57.0\n",
       "7   7582  test    high    67.0\n",
       "8  32404  test    high    73.0\n",
       "9  12624  test    high    76.0"
      ]
     },
     "execution_count": 31,
     "metadata": {},
     "output_type": "execute_result"
    }
   ],
   "source": [
    "button_test.head(10)"
   ]
  },
  {
   "cell_type": "code",
   "execution_count": 32,
   "id": "f1cf58e2",
   "metadata": {},
   "outputs": [
    {
     "data": {
      "text/plain": [
       "array(['high', 'low'], dtype=object)"
      ]
     },
     "execution_count": 32,
     "metadata": {},
     "output_type": "execute_result"
    }
   ],
   "source": [
    "button_test.segment.unique()"
   ]
  },
  {
   "cell_type": "code",
   "execution_count": 20,
   "id": "f1b1495a",
   "metadata": {},
   "outputs": [
    {
     "data": {
      "text/plain": [
       "<AxesSubplot:>"
      ]
     },
     "execution_count": 20,
     "metadata": {},
     "output_type": "execute_result"
    },
    {
     "data": {
      "image/png": "[encoded data removed]",
      "text/plain": [
       "<Figure size 1152x576 with 1 Axes>"
      ]
     },
     "metadata": {
      "needs_background": "light"
     },
     "output_type": "display_data"
    }
   ],
   "source": [
    "plt.figure(figsize=(16, 8))\n",
    "button_test.query('group == \"control\"').events.hist(bins=50)"
   ]
  },
  {
   "cell_type": "code",
   "execution_count": 48,
   "id": "cfff0efc",
   "metadata": {},
   "outputs": [
    {
     "data": {
      "text/plain": [
       "<AxesSubplot:>"
      ]
     },
     "execution_count": 48,
     "metadata": {},
     "output_type": "execute_result"
    },
    {
     "data": {
      "image/png": "[encoded data removed]",
      "text/plain": [
       "<Figure size 1152x576 with 1 Axes>"
      ]
     },
     "metadata": {
      "needs_background": "light"
     },
     "output_type": "display_data"
    }
   ],
   "source": [
    "plt.figure(figsize=(16, 8))\n",
    "button_test.query('group == \"test\"').events.hist(bins=50)"
   ]
  },
  {
   "cell_type": "code",
   "execution_count": 33,
   "id": "05bfa40b",
   "metadata": {},
   "outputs": [
    {
     "data": {
      "text/html": [
       "<div>\n",
       "<style scoped>\n",
       "    .dataframe tbody tr th:only-of-type {\n",
       "        vertical-align: middle;\n",
       "    }\n",
       "\n",
       "    .dataframe tbody tr th {\n",
       "        vertical-align: top;\n",
       "    }\n",
       "\n",
       "    .dataframe thead th {\n",
       "        text-align: right;\n",
       "    }\n",
       "</style>\n",
       "<table border=\"1\" class=\"dataframe\">\n",
       "  <thead>\n",
       "    <tr style=\"text-align: right;\">\n",
       "      <th></th>\n",
       "      <th>group</th>\n",
       "      <th>segment</th>\n",
       "      <th>mean</th>\n",
       "    </tr>\n",
       "  </thead>\n",
       "  <tbody>\n",
       "    <tr>\n",
       "      <th>0</th>\n",
       "      <td>control</td>\n",
       "      <td>high</td>\n",
       "      <td>59.970800</td>\n",
       "    </tr>\n",
       "    <tr>\n",
       "      <th>1</th>\n",
       "      <td>control</td>\n",
       "      <td>low</td>\n",
       "      <td>20.031575</td>\n",
       "    </tr>\n",
       "    <tr>\n",
       "      <th>2</th>\n",
       "      <td>test</td>\n",
       "      <td>high</td>\n",
       "      <td>69.938500</td>\n",
       "    </tr>\n",
       "    <tr>\n",
       "      <th>3</th>\n",
       "      <td>test</td>\n",
       "      <td>low</td>\n",
       "      <td>33.025925</td>\n",
       "    </tr>\n",
       "  </tbody>\n",
       "</table>\n",
       "</div>"
      ],
      "text/plain": [
       "     group segment       mean\n",
       "0  control    high  59.970800\n",
       "1  control     low  20.031575\n",
       "2     test    high  69.938500\n",
       "3     test     low  33.025925"
      ]
     },
     "execution_count": 33,
     "metadata": {},
     "output_type": "execute_result"
    }
   ],
   "source": [
    "button_test.groupby(['group', 'segment'], as_index=False)\\\n",
    "            .agg({'events': 'mean'})\\\n",
    "            .rename(columns={'events': 'mean'}) "
   ]
  },
  {
   "cell_type": "code",
   "execution_count": 35,
   "id": "7371eaa0",
   "metadata": {},
   "outputs": [
    {
     "data": {
      "text/html": [
       "<div>\n",
       "<style scoped>\n",
       "    .dataframe tbody tr th:only-of-type {\n",
       "        vertical-align: middle;\n",
       "    }\n",
       "\n",
       "    .dataframe tbody tr th {\n",
       "        vertical-align: top;\n",
       "    }\n",
       "\n",
       "    .dataframe thead th {\n",
       "        text-align: right;\n",
       "    }\n",
       "</style>\n",
       "<table border=\"1\" class=\"dataframe\">\n",
       "  <thead>\n",
       "    <tr style=\"text-align: right;\">\n",
       "      <th></th>\n",
       "      <th>group</th>\n",
       "      <th>segment</th>\n",
       "      <th>median</th>\n",
       "    </tr>\n",
       "  </thead>\n",
       "  <tbody>\n",
       "    <tr>\n",
       "      <th>0</th>\n",
       "      <td>control</td>\n",
       "      <td>high</td>\n",
       "      <td>60.0</td>\n",
       "    </tr>\n",
       "    <tr>\n",
       "      <th>1</th>\n",
       "      <td>control</td>\n",
       "      <td>low</td>\n",
       "      <td>20.0</td>\n",
       "    </tr>\n",
       "    <tr>\n",
       "      <th>2</th>\n",
       "      <td>test</td>\n",
       "      <td>high</td>\n",
       "      <td>70.0</td>\n",
       "    </tr>\n",
       "    <tr>\n",
       "      <th>3</th>\n",
       "      <td>test</td>\n",
       "      <td>low</td>\n",
       "      <td>33.0</td>\n",
       "    </tr>\n",
       "  </tbody>\n",
       "</table>\n",
       "</div>"
      ],
      "text/plain": [
       "     group segment  median\n",
       "0  control    high    60.0\n",
       "1  control     low    20.0\n",
       "2     test    high    70.0\n",
       "3     test     low    33.0"
      ]
     },
     "execution_count": 35,
     "metadata": {},
     "output_type": "execute_result"
    }
   ],
   "source": [
    "button_test.groupby(['group', 'segment'], as_index=False)\\\n",
    "            .agg({'events': 'median'})\\\n",
    "            .rename(columns={'events': 'median'}) "
   ]
  },
  {
   "cell_type": "markdown",
   "id": "23c71eae",
   "metadata": {},
   "source": [
    "Для данного теста используем многофакторный дисперсионный анализ(ANOVA)"
   ]
  },
  {
   "cell_type": "code",
   "execution_count": 53,
   "id": "2d5cd820",
   "metadata": {},
   "outputs": [
    {
     "data": {
      "text/plain": [
       "8.403974085398076"
      ]
     },
     "execution_count": 53,
     "metadata": {},
     "output_type": "execute_result"
    }
   ],
   "source": [
    "button_test.query('group == \"test\" and segment == \"high\"').events.std()"
   ]
  },
  {
   "cell_type": "code",
   "execution_count": 54,
   "id": "fd0b7afc",
   "metadata": {},
   "outputs": [
    {
     "data": {
      "text/plain": [
       "7.805346866345566"
      ]
     },
     "execution_count": 54,
     "metadata": {},
     "output_type": "execute_result"
    }
   ],
   "source": [
    "button_test.query('group == \"control\" and segment == \"high\"').events.std()"
   ]
  },
  {
   "cell_type": "code",
   "execution_count": 55,
   "id": "08314de9",
   "metadata": {},
   "outputs": [
    {
     "data": {
      "text/plain": [
       "5.720845313076868"
      ]
     },
     "execution_count": 55,
     "metadata": {},
     "output_type": "execute_result"
    }
   ],
   "source": [
    "button_test.query('group == \"test\" and segment == \"low\"').events.std()"
   ]
  },
  {
   "cell_type": "code",
   "execution_count": 56,
   "id": "8dc547d5",
   "metadata": {},
   "outputs": [
    {
     "data": {
      "text/plain": [
       "4.473575565622444"
      ]
     },
     "execution_count": 56,
     "metadata": {},
     "output_type": "execute_result"
    }
   ],
   "source": [
    "button_test.query('group == \"control\" and segment == \"low\"').events.std()"
   ]
  },
  {
   "cell_type": "code",
   "execution_count": 83,
   "id": "6995ed33",
   "metadata": {},
   "outputs": [],
   "source": [
    "a = (button_test.query('group == \"test\" and segment == \"high\"').events)"
   ]
  },
  {
   "cell_type": "code",
   "execution_count": 84,
   "id": "45e70d3a",
   "metadata": {},
   "outputs": [],
   "source": [
    "b = (button_test.query('group == \"control\" and segment == \"high\"').events)"
   ]
  },
  {
   "cell_type": "code",
   "execution_count": 85,
   "id": "7a0080d7",
   "metadata": {},
   "outputs": [],
   "source": [
    "c = (button_test.query('group == \"test\" and segment == \"low\"').events)"
   ]
  },
  {
   "cell_type": "code",
   "execution_count": 86,
   "id": "c80da6ef",
   "metadata": {},
   "outputs": [],
   "source": [
    "d = (button_test.query('group == \"control\" and segment == \"low\"').events)"
   ]
  },
  {
   "cell_type": "code",
   "execution_count": 88,
   "id": "9c831df6",
   "metadata": {},
   "outputs": [
    {
     "data": {
      "text/plain": [
       "LeveneResult(statistic=2983.609682903818, pvalue=0.0)"
      ]
     },
     "execution_count": 88,
     "metadata": {},
     "output_type": "execute_result"
    }
   ],
   "source": [
    "stats.levene(a, b, c, d)"
   ]
  },
  {
   "cell_type": "code",
   "execution_count": 87,
   "id": "99c5f12a",
   "metadata": {},
   "outputs": [
    {
     "data": {
      "text/plain": [
       "count    40000.000000\n",
       "mean        20.031575\n",
       "std          4.473576\n",
       "min          4.000000\n",
       "25%         17.000000\n",
       "50%         20.000000\n",
       "75%         23.000000\n",
       "max         41.000000\n",
       "Name: events, dtype: float64"
      ]
     },
     "execution_count": 87,
     "metadata": {},
     "output_type": "execute_result"
    }
   ],
   "source": [
    "button_test.query('group == \"control\" and segment == \"low\"').events.describe()"
   ]
  },
  {
   "cell_type": "code",
   "execution_count": 37,
   "id": "6a088c99",
   "metadata": {},
   "outputs": [
    {
     "data": {
      "text/html": [
       "<div>\n",
       "<style scoped>\n",
       "    .dataframe tbody tr th:only-of-type {\n",
       "        vertical-align: middle;\n",
       "    }\n",
       "\n",
       "    .dataframe tbody tr th {\n",
       "        vertical-align: top;\n",
       "    }\n",
       "\n",
       "    .dataframe thead th {\n",
       "        text-align: right;\n",
       "    }\n",
       "</style>\n",
       "<table border=\"1\" class=\"dataframe\">\n",
       "  <thead>\n",
       "    <tr style=\"text-align: right;\">\n",
       "      <th></th>\n",
       "      <th>sum_sq</th>\n",
       "      <th>df</th>\n",
       "      <th>F</th>\n",
       "      <th>PR(&gt;F)</th>\n",
       "    </tr>\n",
       "  </thead>\n",
       "  <tbody>\n",
       "    <tr>\n",
       "      <th>C(group)</th>\n",
       "      <td>3.837195e+06</td>\n",
       "      <td>1.0</td>\n",
       "      <td>112031.864119</td>\n",
       "      <td>0.000000e+00</td>\n",
       "    </tr>\n",
       "    <tr>\n",
       "      <th>C(segment)</th>\n",
       "      <td>2.362480e+07</td>\n",
       "      <td>1.0</td>\n",
       "      <td>689756.377485</td>\n",
       "      <td>0.000000e+00</td>\n",
       "    </tr>\n",
       "    <tr>\n",
       "      <th>C(group):C(segment)</th>\n",
       "      <td>3.664244e+04</td>\n",
       "      <td>1.0</td>\n",
       "      <td>1069.823273</td>\n",
       "      <td>2.060261e-233</td>\n",
       "    </tr>\n",
       "    <tr>\n",
       "      <th>Residual</th>\n",
       "      <td>3.424956e+06</td>\n",
       "      <td>99996.0</td>\n",
       "      <td>NaN</td>\n",
       "      <td>NaN</td>\n",
       "    </tr>\n",
       "  </tbody>\n",
       "</table>\n",
       "</div>"
      ],
      "text/plain": [
       "                           sum_sq       df              F         PR(>F)\n",
       "C(group)             3.837195e+06      1.0  112031.864119   0.000000e+00\n",
       "C(segment)           2.362480e+07      1.0  689756.377485   0.000000e+00\n",
       "C(group):C(segment)  3.664244e+04      1.0    1069.823273  2.060261e-233\n",
       "Residual             3.424956e+06  99996.0            NaN            NaN"
      ]
     },
     "execution_count": 37,
     "metadata": {},
     "output_type": "execute_result"
    }
   ],
   "source": [
    "model_interact = ols(\"events~C(group)*C(segment)\", data=button_test).fit()\n",
    "anova_lm(model_interact, typ = 2)"
   ]
  },
  {
   "cell_type": "code",
   "execution_count": 38,
   "id": "678769fc",
   "metadata": {},
   "outputs": [],
   "source": [
    "button_test['combination'] = button_test['group'] + ' \\ ' + button_test['segment']"
   ]
  },
  {
   "cell_type": "code",
   "execution_count": 39,
   "id": "8ae27c66",
   "metadata": {},
   "outputs": [
    {
     "data": {
      "text/html": [
       "<div>\n",
       "<style scoped>\n",
       "    .dataframe tbody tr th:only-of-type {\n",
       "        vertical-align: middle;\n",
       "    }\n",
       "\n",
       "    .dataframe tbody tr th {\n",
       "        vertical-align: top;\n",
       "    }\n",
       "\n",
       "    .dataframe thead th {\n",
       "        text-align: right;\n",
       "    }\n",
       "</style>\n",
       "<table border=\"1\" class=\"dataframe\">\n",
       "  <thead>\n",
       "    <tr style=\"text-align: right;\">\n",
       "      <th></th>\n",
       "      <th>id</th>\n",
       "      <th>group</th>\n",
       "      <th>segment</th>\n",
       "      <th>events</th>\n",
       "      <th>combination</th>\n",
       "    </tr>\n",
       "  </thead>\n",
       "  <tbody>\n",
       "    <tr>\n",
       "      <th>0</th>\n",
       "      <td>83440</td>\n",
       "      <td>test</td>\n",
       "      <td>high</td>\n",
       "      <td>78.0</td>\n",
       "      <td>test \\ high</td>\n",
       "    </tr>\n",
       "    <tr>\n",
       "      <th>1</th>\n",
       "      <td>96723</td>\n",
       "      <td>test</td>\n",
       "      <td>high</td>\n",
       "      <td>71.0</td>\n",
       "      <td>test \\ high</td>\n",
       "    </tr>\n",
       "    <tr>\n",
       "      <th>2</th>\n",
       "      <td>68719</td>\n",
       "      <td>test</td>\n",
       "      <td>high</td>\n",
       "      <td>80.0</td>\n",
       "      <td>test \\ high</td>\n",
       "    </tr>\n",
       "    <tr>\n",
       "      <th>3</th>\n",
       "      <td>50399</td>\n",
       "      <td>test</td>\n",
       "      <td>high</td>\n",
       "      <td>80.0</td>\n",
       "      <td>test \\ high</td>\n",
       "    </tr>\n",
       "    <tr>\n",
       "      <th>4</th>\n",
       "      <td>95613</td>\n",
       "      <td>test</td>\n",
       "      <td>high</td>\n",
       "      <td>78.0</td>\n",
       "      <td>test \\ high</td>\n",
       "    </tr>\n",
       "    <tr>\n",
       "      <th>5</th>\n",
       "      <td>49481</td>\n",
       "      <td>test</td>\n",
       "      <td>high</td>\n",
       "      <td>81.0</td>\n",
       "      <td>test \\ high</td>\n",
       "    </tr>\n",
       "    <tr>\n",
       "      <th>6</th>\n",
       "      <td>95408</td>\n",
       "      <td>test</td>\n",
       "      <td>high</td>\n",
       "      <td>57.0</td>\n",
       "      <td>test \\ high</td>\n",
       "    </tr>\n",
       "    <tr>\n",
       "      <th>7</th>\n",
       "      <td>7582</td>\n",
       "      <td>test</td>\n",
       "      <td>high</td>\n",
       "      <td>67.0</td>\n",
       "      <td>test \\ high</td>\n",
       "    </tr>\n",
       "    <tr>\n",
       "      <th>8</th>\n",
       "      <td>32404</td>\n",
       "      <td>test</td>\n",
       "      <td>high</td>\n",
       "      <td>73.0</td>\n",
       "      <td>test \\ high</td>\n",
       "    </tr>\n",
       "    <tr>\n",
       "      <th>9</th>\n",
       "      <td>12624</td>\n",
       "      <td>test</td>\n",
       "      <td>high</td>\n",
       "      <td>76.0</td>\n",
       "      <td>test \\ high</td>\n",
       "    </tr>\n",
       "  </tbody>\n",
       "</table>\n",
       "</div>"
      ],
      "text/plain": [
       "      id group segment  events  combination\n",
       "0  83440  test    high    78.0  test \\ high\n",
       "1  96723  test    high    71.0  test \\ high\n",
       "2  68719  test    high    80.0  test \\ high\n",
       "3  50399  test    high    80.0  test \\ high\n",
       "4  95613  test    high    78.0  test \\ high\n",
       "5  49481  test    high    81.0  test \\ high\n",
       "6  95408  test    high    57.0  test \\ high\n",
       "7   7582  test    high    67.0  test \\ high\n",
       "8  32404  test    high    73.0  test \\ high\n",
       "9  12624  test    high    76.0  test \\ high"
      ]
     },
     "execution_count": 39,
     "metadata": {},
     "output_type": "execute_result"
    }
   ],
   "source": [
    "button_test.head(10)"
   ]
  },
  {
   "cell_type": "code",
   "execution_count": 107,
   "id": "5dbaedcc",
   "metadata": {},
   "outputs": [
    {
     "data": {
      "text/html": [
       "<div>\n",
       "<style scoped>\n",
       "    .dataframe tbody tr th:only-of-type {\n",
       "        vertical-align: middle;\n",
       "    }\n",
       "\n",
       "    .dataframe tbody tr th {\n",
       "        vertical-align: top;\n",
       "    }\n",
       "\n",
       "    .dataframe thead th {\n",
       "        text-align: right;\n",
       "    }\n",
       "</style>\n",
       "<table border=\"1\" class=\"dataframe\">\n",
       "  <thead>\n",
       "    <tr style=\"text-align: right;\">\n",
       "      <th></th>\n",
       "      <th>A</th>\n",
       "      <th>B</th>\n",
       "      <th>mean(A)</th>\n",
       "      <th>mean(B)</th>\n",
       "      <th>diff</th>\n",
       "      <th>se</th>\n",
       "      <th>T</th>\n",
       "      <th>p-tukey</th>\n",
       "      <th>hedges</th>\n",
       "    </tr>\n",
       "  </thead>\n",
       "  <tbody>\n",
       "    <tr>\n",
       "      <th>0</th>\n",
       "      <td>control</td>\n",
       "      <td>test</td>\n",
       "      <td>28.01942</td>\n",
       "      <td>40.40844</td>\n",
       "      <td>-12.38902</td>\n",
       "      <td>0.10409</td>\n",
       "      <td>-119.021936</td>\n",
       "      <td>0.0</td>\n",
       "      <td>-0.752755</td>\n",
       "    </tr>\n",
       "  </tbody>\n",
       "</table>\n",
       "</div>"
      ],
      "text/plain": [
       "         A     B   mean(A)   mean(B)      diff       se           T  p-tukey  \\\n",
       "0  control  test  28.01942  40.40844 -12.38902  0.10409 -119.021936      0.0   \n",
       "\n",
       "     hedges  \n",
       "0 -0.752755  "
      ]
     },
     "execution_count": 107,
     "metadata": {},
     "output_type": "execute_result"
    }
   ],
   "source": [
    "pg.pairwise_tukey(data=button_test, dv='events', between='group')"
   ]
  },
  {
   "cell_type": "code",
   "execution_count": 108,
   "id": "1927b271",
   "metadata": {},
   "outputs": [
    {
     "data": {
      "text/html": [
       "<div>\n",
       "<style scoped>\n",
       "    .dataframe tbody tr th:only-of-type {\n",
       "        vertical-align: middle;\n",
       "    }\n",
       "\n",
       "    .dataframe tbody tr th {\n",
       "        vertical-align: top;\n",
       "    }\n",
       "\n",
       "    .dataframe thead th {\n",
       "        text-align: right;\n",
       "    }\n",
       "</style>\n",
       "<table border=\"1\" class=\"dataframe\">\n",
       "  <thead>\n",
       "    <tr style=\"text-align: right;\">\n",
       "      <th></th>\n",
       "      <th>A</th>\n",
       "      <th>B</th>\n",
       "      <th>mean(A)</th>\n",
       "      <th>mean(B)</th>\n",
       "      <th>diff</th>\n",
       "      <th>se</th>\n",
       "      <th>T</th>\n",
       "      <th>p-tukey</th>\n",
       "      <th>hedges</th>\n",
       "    </tr>\n",
       "  </thead>\n",
       "  <tbody>\n",
       "    <tr>\n",
       "      <th>0</th>\n",
       "      <td>high</td>\n",
       "      <td>low</td>\n",
       "      <td>64.95465</td>\n",
       "      <td>26.52875</td>\n",
       "      <td>38.4259</td>\n",
       "      <td>0.067541</td>\n",
       "      <td>568.923864</td>\n",
       "      <td>0.0</td>\n",
       "      <td>4.497704</td>\n",
       "    </tr>\n",
       "  </tbody>\n",
       "</table>\n",
       "</div>"
      ],
      "text/plain": [
       "      A    B   mean(A)   mean(B)     diff        se           T  p-tukey  \\\n",
       "0  high  low  64.95465  26.52875  38.4259  0.067541  568.923864      0.0   \n",
       "\n",
       "     hedges  \n",
       "0  4.497704  "
      ]
     },
     "execution_count": 108,
     "metadata": {},
     "output_type": "execute_result"
    }
   ],
   "source": [
    "pg.pairwise_tukey(data=button_test, dv='events', between='segment')"
   ]
  },
  {
   "cell_type": "code",
   "execution_count": 109,
   "id": "3a289d13",
   "metadata": {},
   "outputs": [
    {
     "data": {
      "text/html": [
       "<div>\n",
       "<style scoped>\n",
       "    .dataframe tbody tr th:only-of-type {\n",
       "        vertical-align: middle;\n",
       "    }\n",
       "\n",
       "    .dataframe tbody tr th {\n",
       "        vertical-align: top;\n",
       "    }\n",
       "\n",
       "    .dataframe thead th {\n",
       "        text-align: right;\n",
       "    }\n",
       "</style>\n",
       "<table border=\"1\" class=\"dataframe\">\n",
       "  <thead>\n",
       "    <tr style=\"text-align: right;\">\n",
       "      <th></th>\n",
       "      <th>A</th>\n",
       "      <th>B</th>\n",
       "      <th>mean(A)</th>\n",
       "      <th>mean(B)</th>\n",
       "      <th>diff</th>\n",
       "      <th>se</th>\n",
       "      <th>T</th>\n",
       "      <th>p-tukey</th>\n",
       "      <th>hedges</th>\n",
       "    </tr>\n",
       "  </thead>\n",
       "  <tbody>\n",
       "    <tr>\n",
       "      <th>0</th>\n",
       "      <td>control \\ high</td>\n",
       "      <td>control \\ low</td>\n",
       "      <td>59.970800</td>\n",
       "      <td>20.031575</td>\n",
       "      <td>39.939225</td>\n",
       "      <td>0.065432</td>\n",
       "      <td>610.391461</td>\n",
       "      <td>0.0</td>\n",
       "      <td>6.824282</td>\n",
       "    </tr>\n",
       "    <tr>\n",
       "      <th>1</th>\n",
       "      <td>control \\ high</td>\n",
       "      <td>test \\ high</td>\n",
       "      <td>59.970800</td>\n",
       "      <td>69.938500</td>\n",
       "      <td>-9.967700</td>\n",
       "      <td>0.082766</td>\n",
       "      <td>-120.432523</td>\n",
       "      <td>0.0</td>\n",
       "      <td>-1.703109</td>\n",
       "    </tr>\n",
       "    <tr>\n",
       "      <th>2</th>\n",
       "      <td>control \\ high</td>\n",
       "      <td>test \\ low</td>\n",
       "      <td>59.970800</td>\n",
       "      <td>33.025925</td>\n",
       "      <td>26.944875</td>\n",
       "      <td>0.065432</td>\n",
       "      <td>411.798717</td>\n",
       "      <td>0.0</td>\n",
       "      <td>4.603981</td>\n",
       "    </tr>\n",
       "    <tr>\n",
       "      <th>3</th>\n",
       "      <td>control \\ low</td>\n",
       "      <td>test \\ high</td>\n",
       "      <td>20.031575</td>\n",
       "      <td>69.938500</td>\n",
       "      <td>-49.906925</td>\n",
       "      <td>0.065432</td>\n",
       "      <td>-762.727892</td>\n",
       "      <td>0.0</td>\n",
       "      <td>-8.527429</td>\n",
       "    </tr>\n",
       "    <tr>\n",
       "      <th>4</th>\n",
       "      <td>control \\ low</td>\n",
       "      <td>test \\ low</td>\n",
       "      <td>20.031575</td>\n",
       "      <td>33.025925</td>\n",
       "      <td>-12.994350</td>\n",
       "      <td>0.041383</td>\n",
       "      <td>-314.002699</td>\n",
       "      <td>0.0</td>\n",
       "      <td>-2.220314</td>\n",
       "    </tr>\n",
       "    <tr>\n",
       "      <th>5</th>\n",
       "      <td>test \\ high</td>\n",
       "      <td>test \\ low</td>\n",
       "      <td>69.938500</td>\n",
       "      <td>33.025925</td>\n",
       "      <td>36.912575</td>\n",
       "      <td>0.065432</td>\n",
       "      <td>564.135148</td>\n",
       "      <td>0.0</td>\n",
       "      <td>6.307128</td>\n",
       "    </tr>\n",
       "  </tbody>\n",
       "</table>\n",
       "</div>"
      ],
      "text/plain": [
       "                A              B    mean(A)    mean(B)       diff        se  \\\n",
       "0  control \\ high  control \\ low  59.970800  20.031575  39.939225  0.065432   \n",
       "1  control \\ high    test \\ high  59.970800  69.938500  -9.967700  0.082766   \n",
       "2  control \\ high     test \\ low  59.970800  33.025925  26.944875  0.065432   \n",
       "3   control \\ low    test \\ high  20.031575  69.938500 -49.906925  0.065432   \n",
       "4   control \\ low     test \\ low  20.031575  33.025925 -12.994350  0.041383   \n",
       "5     test \\ high     test \\ low  69.938500  33.025925  36.912575  0.065432   \n",
       "\n",
       "            T  p-tukey    hedges  \n",
       "0  610.391461      0.0  6.824282  \n",
       "1 -120.432523      0.0 -1.703109  \n",
       "2  411.798717      0.0  4.603981  \n",
       "3 -762.727892      0.0 -8.527429  \n",
       "4 -314.002699      0.0 -2.220314  \n",
       "5  564.135148      0.0  6.307128  "
      ]
     },
     "execution_count": 109,
     "metadata": {},
     "output_type": "execute_result"
    }
   ],
   "source": [
    "pg.pairwise_tukey(data=button_test, dv='events', between='combination')"
   ]
  },
  {
   "cell_type": "code",
   "execution_count": 104,
   "id": "fe2e8d09",
   "metadata": {},
   "outputs": [
    {
     "data": {
      "text/plain": [
       "<AxesSubplot:xlabel='group', ylabel='events'>"
      ]
     },
     "execution_count": 104,
     "metadata": {},
     "output_type": "execute_result"
    },
    {
     "data": {
      "image/png": "[encoded data removed]",
      "text/plain": [
       "<Figure size 432x288 with 1 Axes>"
      ]
     },
     "metadata": {
      "needs_background": "light"
     },
     "output_type": "display_data"
    }
   ],
   "source": [
    "sns.pointplot(x='group', y='events', hue='segment', data=button_test)"
   ]
  },
  {
   "cell_type": "markdown",
   "id": "b825e028",
   "metadata": {},
   "source": [
    "По резултьтатам многофакторного дисперсионного анализа мы можем сделать вывод, что значимыми оказались как фактор групп, так и фактор сегмента пользователей, а также их комбинация. Средние значения увеличились в тестовой группе. Принимаем решение раскатывать новую версию на всех пользователей."
   ]
  },
  {
   "cell_type": "code",
   "execution_count": null,
   "id": "29920938",
   "metadata": {},
   "outputs": [],
   "source": []
  }
 ],
 "metadata": {
  "kernelspec": {
   "display_name": "Python 3 (ipykernel)",
   "language": "python",
   "name": "python3"
  },
  "language_info": {
   "codemirror_mode": {
    "name": "ipython",
    "version": 3
   },
   "file_extension": ".py",
   "mimetype": "text/x-python",
   "name": "python",
   "nbconvert_exporter": "python",
   "pygments_lexer": "ipython3",
   "version": "3.9.12"
  }
 },
 "nbformat": 4,
 "nbformat_minor": 5
}
